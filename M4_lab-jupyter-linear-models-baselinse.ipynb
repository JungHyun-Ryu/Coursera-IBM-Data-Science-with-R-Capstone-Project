{
 "cells": [
  {
   "cell_type": "markdown",
   "metadata": {},
   "source": [
    "<center>\n",
    "<img src=\"https://cf-courses-data.s3.us.cloud-object-storage.appdomain.cloud/IBMDeveloperSkillsNetwork-RP0321EN-SkillsNetwork/labs/module_1/images/SN_web_lightmode.png\" width=\"300\"> \n",
    "</center>\n"
   ]
  },
  {
   "cell_type": "markdown",
   "metadata": {},
   "source": [
    "<h1>Predict Hourly Rented Bike Count using Basic Linear Regression Models</h1>\n",
    "\n",
    "Estimated time needed: **90** minutes\n"
   ]
  },
  {
   "cell_type": "markdown",
   "metadata": {},
   "source": [
    "## Lab Overview:\n",
    "\n",
    "Now that you have performed exploratory analysis on the bike sharing demand dataset and obtained some insights on the attributes, it's time to build predictive models to predict the hourly rented bike count using related weather and date information.\n",
    "\n",
    "In this lab, you will be asked to use `tidymodels` to build some baseline linear regression models:\n",
    "- **TASK: Split data into training and testing datasets**\n",
    "- **TASK: Build a linear regression model using only the weather variables**\n",
    "- **TASK: Build a linear regression model using both weather and date variables**\n",
    "- **TASK: Evaluate the models and identify important variables**\n",
    "\n",
    "Let's start!\n"
   ]
  },
  {
   "cell_type": "markdown",
   "metadata": {},
   "source": [
    "The tidyverse and the tidymodels packages can be used to produce high quality statistical and machine learning models. The Tidyverse library is a useful tool that provides various tools for data visualization, data manipulation, and read various datasets into a data frame; our Jupyter notebook platforms have a built-in Tidymodels, Tidyverse and rlang libraries, so we do not need to install these packages prior to loading library. However, if you decide to run this lab on your RStudio Desktop locally on your machine, you can remove the commented lines of code to install these packages before loading.\n"
   ]
  },
  {
   "cell_type": "code",
   "execution_count": null,
   "metadata": {},
   "outputs": [],
   "source": [
    "# It may take several minutes to install those libraries in Watson Studio\n",
    "# install.packages(\"rlang\")\n",
    "# install.packages(\"tidymodels\")"
   ]
  },
  {
   "cell_type": "code",
   "execution_count": 1,
   "metadata": {
    "tags": []
   },
   "outputs": [
    {
     "name": "stderr",
     "output_type": "stream",
     "text": [
      "── Attaching packages ────────────────────────────────────── tidymodels 0.1.0 ──\n",
      "✔ broom     0.5.6      ✔ recipes   0.1.12\n",
      "✔ dials     0.0.6      ✔ rsample   0.0.5 \n",
      "✔ dplyr     0.8.5      ✔ tibble    3.0.1 \n",
      "✔ ggplot2   3.3.0      ✔ tune      0.1.0 \n",
      "✔ infer     0.5.1      ✔ workflows 0.1.1 \n",
      "✔ parsnip   0.1.0      ✔ yardstick 0.0.6 \n",
      "✔ purrr     0.3.4      \n",
      "── Conflicts ───────────────────────────────────────── tidymodels_conflicts() ──\n",
      "✖ purrr::discard()  masks scales::discard()\n",
      "✖ dplyr::filter()   masks stats::filter()\n",
      "✖ dplyr::lag()      masks stats::lag()\n",
      "✖ ggplot2::margin() masks dials::margin()\n",
      "✖ recipes::step()   masks stats::step()\n",
      "── Attaching packages ─────────────────────────────────────── tidyverse 1.3.0 ──\n",
      "✔ readr   1.3.1     ✔ forcats 0.5.0\n",
      "✔ stringr 1.4.0     \n",
      "── Conflicts ────────────────────────────────────────── tidyverse_conflicts() ──\n",
      "✖ readr::col_factor() masks scales::col_factor()\n",
      "✖ purrr::discard()    masks scales::discard()\n",
      "✖ dplyr::filter()     masks stats::filter()\n",
      "✖ stringr::fixed()    masks recipes::fixed()\n",
      "✖ dplyr::lag()        masks stats::lag()\n",
      "✖ ggplot2::margin()   masks dials::margin()\n",
      "✖ readr::spec()       masks yardstick::spec()\n"
     ]
    }
   ],
   "source": [
    "library(\"tidymodels\")\n",
    "library(\"tidyverse\")\n",
    "library(\"stringr\")"
   ]
  },
  {
   "cell_type": "markdown",
   "metadata": {},
   "source": [
    "The `seoul_bike_sharing_converted_normalized.csv` will be our main dataset which has following variables:\n",
    "\n",
    "The response variable:\n",
    "- `RENTED BIKE COUNT`- Count of bikes rented at each hour\n",
    "\n",
    "Weather predictor variables:\n",
    "- `TEMPERATURE` - Temperature in Celsius\n",
    "- `HUMIDITY` - Unit is `%`\n",
    "- `WIND_SPEED` - Unit is `m/s`\n",
    "- `VISIBILITY` - Multiplied by 10m\n",
    "- `DEW_POINT_TEMPERATURE` - The temperature to which the air would have to cool down in order to reach saturation, unit is Celsius\n",
    "- `SOLAR_RADIATION` - MJ/m2\n",
    "- `RAINFALL` - mm\n",
    "- `SNOWFALL` - cm\n",
    "\n",
    "Date/time predictor variables:\n",
    "- `DATE` - Year-month-day\n",
    "- `HOUR`- Hour of he day\n",
    "- `FUNCTIONAL DAY` - NoFunc(Non Functional Hours), Fun(Functional hours)\n",
    "- `HOLIDAY` - Holiday/No holiday\n",
    "- `SEASONS` - Winter, Spring, Summer, Autumn\n"
   ]
  },
  {
   "cell_type": "markdown",
   "metadata": {},
   "source": [
    "Let's read the dataset as a dataframe first:\n"
   ]
  },
  {
   "cell_type": "code",
   "execution_count": 2,
   "metadata": {
    "tags": []
   },
   "outputs": [
    {
     "name": "stderr",
     "output_type": "stream",
     "text": [
      "Parsed with column specification:\n",
      "cols(\n",
      "  .default = col_double(),\n",
      "  DATE = col_character(),\n",
      "  FUNCTIONING_DAY = col_character()\n",
      ")\n",
      "See spec(...) for full column specifications.\n"
     ]
    },
    {
     "data": {
      "text/plain": [
       "cols(\n",
       "  DATE = col_character(),\n",
       "  RENTED_BIKE_COUNT = col_double(),\n",
       "  TEMPERATURE = col_double(),\n",
       "  HUMIDITY = col_double(),\n",
       "  WIND_SPEED = col_double(),\n",
       "  VISIBILITY = col_double(),\n",
       "  DEW_POINT_TEMPERATURE = col_double(),\n",
       "  SOLAR_RADIATION = col_double(),\n",
       "  RAINFALL = col_double(),\n",
       "  SNOWFALL = col_double(),\n",
       "  FUNCTIONING_DAY = col_character(),\n",
       "  `0` = col_double(),\n",
       "  `1` = col_double(),\n",
       "  `10` = col_double(),\n",
       "  `11` = col_double(),\n",
       "  `12` = col_double(),\n",
       "  `13` = col_double(),\n",
       "  `14` = col_double(),\n",
       "  `15` = col_double(),\n",
       "  `16` = col_double(),\n",
       "  `17` = col_double(),\n",
       "  `18` = col_double(),\n",
       "  `19` = col_double(),\n",
       "  `2` = col_double(),\n",
       "  `20` = col_double(),\n",
       "  `21` = col_double(),\n",
       "  `22` = col_double(),\n",
       "  `23` = col_double(),\n",
       "  `3` = col_double(),\n",
       "  `4` = col_double(),\n",
       "  `5` = col_double(),\n",
       "  `6` = col_double(),\n",
       "  `7` = col_double(),\n",
       "  `8` = col_double(),\n",
       "  `9` = col_double(),\n",
       "  AUTUMN = col_double(),\n",
       "  SPRING = col_double(),\n",
       "  SUMMER = col_double(),\n",
       "  WINTER = col_double(),\n",
       "  HOLIDAY = col_double(),\n",
       "  NO_HOLIDAY = col_double()\n",
       ")"
      ]
     },
     "metadata": {},
     "output_type": "display_data"
    }
   ],
   "source": [
    "# Dataset URL\n",
    "dataset_url <- \"https://cf-courses-data.s3.us.cloud-object-storage.appdomain.cloud/IBMDeveloperSkillsNetwork-RP0321EN-SkillsNetwork/labs/datasets/seoul_bike_sharing_converted_normalized.csv\"\n",
    "bike_sharing_df <- read_csv(dataset_url)\n",
    "spec(bike_sharing_df)"
   ]
  },
  {
   "cell_type": "markdown",
   "metadata": {},
   "source": [
    "We won't be using the `DATE` column, because 'as is', it basically acts like an data entry index. (However, given more time, we could use the `DATE` colum to create a 'day of week' or 'isWeekend' column, which we might expect has an affect on preferred bike rental times.) We also do not need the `FUNCTIONAL DAY` column because it only has one distinct value remaining (`YES`) after missing value processing.\n"
   ]
  },
  {
   "cell_type": "code",
   "execution_count": 3,
   "metadata": {
    "tags": []
   },
   "outputs": [],
   "source": [
    "bike_sharing_df <- bike_sharing_df %>% \n",
    "                   select(-DATE, -FUNCTIONING_DAY)"
   ]
  },
  {
   "cell_type": "code",
   "execution_count": 5,
   "metadata": {
    "tags": []
   },
   "outputs": [
    {
     "data": {
      "text/html": [
       "'/resources/RP0321EN/labs/module_4'"
      ],
      "text/latex": [
       "'/resources/RP0321EN/labs/module\\_4'"
      ],
      "text/markdown": [
       "'/resources/RP0321EN/labs/module_4'"
      ],
      "text/plain": [
       "[1] \"/resources/RP0321EN/labs/module_4\""
      ]
     },
     "metadata": {},
     "output_type": "display_data"
    }
   ],
   "source": [
    "getwd()\n"
   ]
  },
  {
   "cell_type": "markdown",
   "metadata": {},
   "source": [
    "# TASK: Split training and testing data\n"
   ]
  },
  {
   "cell_type": "markdown",
   "metadata": {},
   "source": [
    "First, we need to split the full dataset into training and testing datasets.\n",
    "\n",
    "The training dataset will be used for fitting regression models, and the testing dataset will be used to evaluate the trained models.\n"
   ]
  },
  {
   "cell_type": "markdown",
   "metadata": {},
   "source": [
    "_TODO:_ Use the `initial_split()`, `training()`, and `testing()` functions to generate a training dataset consisting of 75% of the original dataset, and a testing dataset using the remaining 25%. \n"
   ]
  },
  {
   "cell_type": "code",
   "execution_count": 9,
   "metadata": {
    "tags": []
   },
   "outputs": [
    {
     "name": "stdout",
     "output_type": "stream",
     "text": [
      "Training dataset dimensions: 6349 39 \n",
      "Testing dataset dimensions: 2116 39 \n"
     ]
    }
   ],
   "source": [
    "# Use the `initial_split()`, `training()`, and `testing()` functions to split the dataset\n",
    "# With seed 1234\n",
    "set.seed(1234)\n",
    "# prop = 3/4\n",
    "# train_data \n",
    "# test_data\n",
    "\n",
    "# Load necessary library\n",
    "library(rsample)\n",
    "\n",
    "# Set seed for reproducibility\n",
    "set.seed(1234)\n",
    "\n",
    "# Perform the initial split\n",
    "split_data <- initial_split(bike_sharing_df, prop = 3/4)\n",
    "\n",
    "# Create training dataset\n",
    "train_data <- training(split_data)\n",
    "\n",
    "# Create testing dataset\n",
    "test_data <- testing(split_data)\n",
    "\n",
    "# Print the dimensions of the resulting datasets\n",
    "cat(\"Training dataset dimensions:\", dim(train_data), \"\\n\")\n",
    "cat(\"Testing dataset dimensions:\", dim(test_data), \"\\n\")\n"
   ]
  },
  {
   "cell_type": "markdown",
   "metadata": {},
   "source": [
    "# TASK: Build a linear regression model using weather variables only\n"
   ]
  },
  {
   "cell_type": "markdown",
   "metadata": {},
   "source": [
    "As you could imagine, weather conditions may affect people's bike renting decisions. For example, on a cold and rainy day, you may choose alternate transportation such as a bus or taxi.  While on a nice sunny day, you may want to rent a bike for a short-distance travel.\n"
   ]
  },
  {
   "cell_type": "markdown",
   "metadata": {},
   "source": [
    "Thus, can we predict a city's bike-sharing demand based on its local weather information? Let's try to build a regression model to do that.\n"
   ]
  },
  {
   "cell_type": "markdown",
   "metadata": {},
   "source": [
    "_TODO:_ Build a linear regression model called `lm_model_weather` using the following variables:\n",
    "\n",
    "- `TEMPERATURE` - Temperature in Celsius\n",
    "- `HUMIDITY` - Unit is `%`\n",
    "- `WIND_SPEED` - Unit is `m/s`\n",
    "- `VISIBILITY` - Multiplied by 10m\n",
    "- `DEW_POINT_TEMPERATURE` - The temperature to which the air would have to cool down in order to reach saturation, unit is Celsius\n",
    "- `SOLAR_RADIATION` - MJ/m2\n",
    "- `RAINFALL` - mm\n",
    "- `SNOWFALL` - cm\n"
   ]
  },
  {
   "cell_type": "markdown",
   "metadata": {},
   "source": [
    "Define a linear regression model specification.\n"
   ]
  },
  {
   "cell_type": "code",
   "execution_count": 10,
   "metadata": {
    "tags": []
   },
   "outputs": [
    {
     "data": {
      "text/plain": [
       "Linear Regression Model Specification (regression)\n",
       "\n",
       "Computational engine: lm \n"
      ]
     },
     "metadata": {},
     "output_type": "display_data"
    }
   ],
   "source": [
    "# Use `linear_reg()` with engine `lm` and mode `regression`\n",
    "\n",
    "# Load necessary libraries\n",
    "library(tidymodels)\n",
    "\n",
    "# Define the linear regression model specification\n",
    "lm_model_weather <- linear_reg() %>%\n",
    "  set_engine(\"lm\") %>%\n",
    "  set_mode(\"regression\")\n",
    "\n",
    "# Print the model specification\n",
    "lm_model_weather\n"
   ]
  },
  {
   "cell_type": "markdown",
   "metadata": {},
   "source": [
    "Fit a model with the response variable `RENTED_BIKE_COUNT` and predictor variables `TEMPERATURE + HUMIDITY + WIND_SPEED + VISIBILITY + DEW_POINT_TEMPERATURE + SOLAR_RADIATION + RAINFALL + SNOWFALL`\n"
   ]
  },
  {
   "cell_type": "code",
   "execution_count": 11,
   "metadata": {
    "tags": []
   },
   "outputs": [],
   "source": [
    "# Fit the model called `lm_model_weather`\n",
    "# RENTED_BIKE_COUNT ~ TEMPERATURE + HUMIDITY + WIND_SPEED + VISIBILITY + DEW_POINT_TEMPERATURE + SOLAR_RADIATION + RAINFALL + SNOWFALL,  with the training data\n",
    "# Fit the model called lm_model_weather\n",
    "lm_model_weather_fit <- lm_model_weather %>%\n",
    "  fit(RENTED_BIKE_COUNT ~ TEMPERATURE + HUMIDITY + WIND_SPEED + VISIBILITY + \n",
    "      DEW_POINT_TEMPERATURE + SOLAR_RADIATION + RAINFALL + SNOWFALL, \n",
    "      data = train_data)\n"
   ]
  },
  {
   "cell_type": "markdown",
   "metadata": {},
   "source": [
    "Print the fit summary for the `lm_model_weather` model.\n"
   ]
  },
  {
   "cell_type": "code",
   "execution_count": 12,
   "metadata": {
    "tags": []
   },
   "outputs": [
    {
     "data": {
      "text/plain": [
       "         Length Class    Mode     \n",
       "args     2      -none-   list     \n",
       "eng_args 0      quosures list     \n",
       "mode     1      -none-   character\n",
       "method   0      -none-   NULL     \n",
       "engine   1      -none-   character"
      ]
     },
     "metadata": {},
     "output_type": "display_data"
    }
   ],
   "source": [
    "# print(lm_model_weather$fit)\n",
    "\n",
    "summary(lm_model_weather)"
   ]
  },
  {
   "cell_type": "markdown",
   "metadata": {},
   "source": [
    "You should see the model details such as formula, residuals, and coefficients.\n"
   ]
  },
  {
   "cell_type": "markdown",
   "metadata": {},
   "source": [
    "# TASK: Build a linear regression model using all variables\n"
   ]
  },
  {
   "cell_type": "markdown",
   "metadata": {},
   "source": [
    "In addition to weather, there could be other factors that may affect bike rental demand, such as the time of a day or if today is a holiday or not.\n"
   ]
  },
  {
   "cell_type": "markdown",
   "metadata": {},
   "source": [
    "Next, let's build a linear regression model using all variables (weather + date/time) in this task.\n"
   ]
  },
  {
   "cell_type": "markdown",
   "metadata": {},
   "source": [
    "_TODO:_ Build a linear regression model called `lm_model_all` using all variables `RENTED_BIKE_COUNT ~ .`\n"
   ]
  },
  {
   "cell_type": "code",
   "execution_count": 13,
   "metadata": {
    "tags": []
   },
   "outputs": [],
   "source": [
    "# Fit the model called `lm_model_all`\n",
    "# `RENTED_BIKE_COUNT ~ .` means use all other variables except for the response variable\n",
    "# Define the linear regression model specification\n",
    "lm_model_all <- linear_reg() %>%\n",
    "  set_engine(\"lm\") %>%\n",
    "  set_mode(\"regression\")\n",
    "\n",
    "# Fit the model using all variables\n",
    "lm_model_all_fit <- lm_model_all %>%\n",
    "  fit(RENTED_BIKE_COUNT ~ ., data = train_data)"
   ]
  },
  {
   "cell_type": "markdown",
   "metadata": {},
   "source": [
    "Print the fit summary for `lm_model_all`.\n"
   ]
  },
  {
   "cell_type": "code",
   "execution_count": 14,
   "metadata": {
    "tags": []
   },
   "outputs": [
    {
     "data": {
      "text/plain": [
       "\n",
       "Call:\n",
       "stats::lm(formula = formula, data = data)\n",
       "\n",
       "Residuals:\n",
       "     Min       1Q   Median       3Q      Max \n",
       "-1390.19  -220.95    -9.08   202.68  1774.61 \n",
       "\n",
       "Coefficients: (3 not defined because of singularities)\n",
       "                       Estimate Std. Error t value Pr(>|t|)    \n",
       "(Intercept)             216.584     50.673   4.274 1.95e-05 ***\n",
       "TEMPERATURE             810.604    209.034   3.878 0.000106 ***\n",
       "HUMIDITY               -920.587     97.243  -9.467  < 2e-16 ***\n",
       "WIND_SPEED               -9.313     40.268  -0.231 0.817101    \n",
       "VISIBILITY               24.368     20.235   1.204 0.228533    \n",
       "DEW_POINT_TEMPERATURE   632.384    217.478   2.908 0.003652 ** \n",
       "SOLAR_RADIATION         249.752     41.347   6.040 1.62e-09 ***\n",
       "RAINFALL              -1982.940    143.642 -13.805  < 2e-16 ***\n",
       "SNOWFALL                232.451    104.609   2.222 0.026312 *  \n",
       "`0`                     -12.500     34.010  -0.368 0.713234    \n",
       "`1`                    -125.701     34.579  -3.635 0.000280 ***\n",
       "`10`                   -222.233     33.316  -6.671 2.76e-11 ***\n",
       "`11`                   -231.428     33.981  -6.811 1.06e-11 ***\n",
       "`12`                   -194.605     34.559  -5.631 1.87e-08 ***\n",
       "`13`                   -189.528     35.199  -5.385 7.53e-08 ***\n",
       "`14`                   -183.060     35.246  -5.194 2.12e-07 ***\n",
       "`15`                   -103.127     35.096  -2.938 0.003311 ** \n",
       "`16`                     43.598     34.230   1.274 0.202829    \n",
       "`17`                    306.732     34.272   8.950  < 2e-16 ***\n",
       "`18`                    782.842     34.512  22.683  < 2e-16 ***\n",
       "`19`                    519.456     34.541  15.039  < 2e-16 ***\n",
       "`2`                    -259.946     34.575  -7.518 6.32e-14 ***\n",
       "`20`                    394.635     34.729  11.363  < 2e-16 ***\n",
       "`21`                    430.185     34.337  12.528  < 2e-16 ***\n",
       "`22`                    322.664     33.935   9.508  < 2e-16 ***\n",
       "`23`                     90.181     33.974   2.654 0.007965 ** \n",
       "`3`                    -327.245     33.890  -9.656  < 2e-16 ***\n",
       "`4`                    -389.558     34.033 -11.447  < 2e-16 ***\n",
       "`5`                    -379.055     33.818 -11.209  < 2e-16 ***\n",
       "`6`                    -216.689     34.166  -6.342 2.42e-10 ***\n",
       "`7`                     110.492     33.930   3.256 0.001134 ** \n",
       "`8`                     502.354     33.506  14.993  < 2e-16 ***\n",
       "`9`                          NA         NA      NA       NA    \n",
       "AUTUMN                  357.978     19.997  17.902  < 2e-16 ***\n",
       "SPRING                  194.421     19.218  10.117  < 2e-16 ***\n",
       "SUMMER                  172.901     29.043   5.953 2.77e-09 ***\n",
       "WINTER                       NA         NA      NA       NA    \n",
       "HOLIDAY                -129.167     22.447  -5.754 9.11e-09 ***\n",
       "NO_HOLIDAY                   NA         NA      NA       NA    \n",
       "---\n",
       "Signif. codes:  0 ‘***’ 0.001 ‘**’ 0.01 ‘*’ 0.05 ‘.’ 0.1 ‘ ’ 1\n",
       "\n",
       "Residual standard error: 376.4 on 6313 degrees of freedom\n",
       "Multiple R-squared:  0.6622,\tAdjusted R-squared:  0.6603 \n",
       "F-statistic: 353.5 on 35 and 6313 DF,  p-value: < 2.2e-16\n"
      ]
     },
     "metadata": {},
     "output_type": "display_data"
    }
   ],
   "source": [
    "# summary(lm_model_all$fit)\n",
    "# Print the fit summary\n",
    "summary(lm_model_all_fit$fit)\n"
   ]
  },
  {
   "cell_type": "markdown",
   "metadata": {},
   "source": [
    "Now you have built two basic linear regression models with different predictor variables, let's evaluate which model has better performance,\n"
   ]
  },
  {
   "cell_type": "markdown",
   "metadata": {},
   "source": [
    "# TASK: Model evaluation and identification of important variables\n"
   ]
  },
  {
   "cell_type": "markdown",
   "metadata": {},
   "source": [
    "Now that you have built two regression models, `lm_model_weather` and `lm_model_all`, with different predictor variables, you need to compare their performance to see which one is better.\n"
   ]
  },
  {
   "cell_type": "markdown",
   "metadata": {},
   "source": [
    "In this project, you will be asked to use very important metrics that are often used in Statistics to determine the performance of a model:\n",
    "\n",
    "1.  R^2 / R-squared \n",
    "2.  Root Mean Squared Error (RMSE)\n",
    "\n",
    "**R-squared**\n",
    "\n",
    "<p>R squared, also known as the coefficient of determination, is a measure to indicate how close the data is to the fitted regression line. The value of R-squared is the percentage of variation of the response variable (y) that is explained by a linear model.</p>\n",
    "\n",
    "**Root Mean Squared Error (RMSE)**\n",
    "$$\n",
    "RMSE = \\sqrt{MSE}\n",
    "$$\n",
    "\n",
    "As you know, the Mean Squared Error measures the average of the squares of errors, where 'error' is the difference between the actual value ($y$) and the estimated value ($ŷ$). \n",
    "Another metric that is related to MSE is **Root Mean Squared Error (RMSE)** and is simply the square root of MSE.\n"
   ]
  },
  {
   "cell_type": "markdown",
   "metadata": {},
   "source": [
    "We first need to test the `lm_model_weather` and `lm_model_all` models against the test dataset `test_data`, and generate `RENTED_BIKE_COUNT` prediction results.\n"
   ]
  },
  {
   "cell_type": "markdown",
   "metadata": {},
   "source": [
    "_TODO:_ Make predictions on the testing dataset using both `lm_model_weather` and `lm_model_all` models\n"
   ]
  },
  {
   "cell_type": "code",
   "execution_count": 15,
   "metadata": {
    "tags": []
   },
   "outputs": [
    {
     "name": "stderr",
     "output_type": "stream",
     "text": [
      "Warning message in predict.lm(object = object$fit, newdata = new_data, type = \"response\"):\n",
      "“prediction from a rank-deficient fit may be misleading”"
     ]
    },
    {
     "data": {
      "text/html": [
       "<table>\n",
       "<caption>A tibble: 6 × 3</caption>\n",
       "<thead>\n",
       "\t<tr><th scope=col>RENTED_BIKE_COUNT</th><th scope=col>.pred</th><th scope=col>model</th></tr>\n",
       "\t<tr><th scope=col>&lt;dbl&gt;</th><th scope=col>&lt;dbl&gt;</th><th scope=col>&lt;chr&gt;</th></tr>\n",
       "</thead>\n",
       "<tbody>\n",
       "\t<tr><td>173</td><td>274.3531</td><td>Weather Only</td></tr>\n",
       "\t<tr><td> 78</td><td>378.1757</td><td>Weather Only</td></tr>\n",
       "\t<tr><td>181</td><td>312.9917</td><td>Weather Only</td></tr>\n",
       "\t<tr><td>490</td><td>336.7766</td><td>Weather Only</td></tr>\n",
       "\t<tr><td>449</td><td>631.8560</td><td>Weather Only</td></tr>\n",
       "\t<tr><td>451</td><td>638.0489</td><td>Weather Only</td></tr>\n",
       "</tbody>\n",
       "</table>\n"
      ],
      "text/latex": [
       "A tibble: 6 × 3\n",
       "\\begin{tabular}{lll}\n",
       " RENTED\\_BIKE\\_COUNT & .pred & model\\\\\n",
       " <dbl> & <dbl> & <chr>\\\\\n",
       "\\hline\n",
       "\t 173 & 274.3531 & Weather Only\\\\\n",
       "\t  78 & 378.1757 & Weather Only\\\\\n",
       "\t 181 & 312.9917 & Weather Only\\\\\n",
       "\t 490 & 336.7766 & Weather Only\\\\\n",
       "\t 449 & 631.8560 & Weather Only\\\\\n",
       "\t 451 & 638.0489 & Weather Only\\\\\n",
       "\\end{tabular}\n"
      ],
      "text/markdown": [
       "\n",
       "A tibble: 6 × 3\n",
       "\n",
       "| RENTED_BIKE_COUNT &lt;dbl&gt; | .pred &lt;dbl&gt; | model &lt;chr&gt; |\n",
       "|---|---|---|\n",
       "| 173 | 274.3531 | Weather Only |\n",
       "|  78 | 378.1757 | Weather Only |\n",
       "| 181 | 312.9917 | Weather Only |\n",
       "| 490 | 336.7766 | Weather Only |\n",
       "| 449 | 631.8560 | Weather Only |\n",
       "| 451 | 638.0489 | Weather Only |\n",
       "\n"
      ],
      "text/plain": [
       "  RENTED_BIKE_COUNT .pred    model       \n",
       "1 173               274.3531 Weather Only\n",
       "2  78               378.1757 Weather Only\n",
       "3 181               312.9917 Weather Only\n",
       "4 490               336.7766 Weather Only\n",
       "5 449               631.8560 Weather Only\n",
       "6 451               638.0489 Weather Only"
      ]
     },
     "metadata": {},
     "output_type": "display_data"
    },
    {
     "data": {
      "text/html": [
       "<table>\n",
       "<caption>A tibble: 6 × 3</caption>\n",
       "<thead>\n",
       "\t<tr><th scope=col>RENTED_BIKE_COUNT</th><th scope=col>.pred</th><th scope=col>model</th></tr>\n",
       "\t<tr><th scope=col>&lt;dbl&gt;</th><th scope=col>&lt;dbl&gt;</th><th scope=col>&lt;chr&gt;</th></tr>\n",
       "</thead>\n",
       "<tbody>\n",
       "\t<tr><td>173</td><td> -78.24847</td><td>All Variables</td></tr>\n",
       "\t<tr><td> 78</td><td>-191.16239</td><td>All Variables</td></tr>\n",
       "\t<tr><td>181</td><td> -25.99046</td><td>All Variables</td></tr>\n",
       "\t<tr><td>490</td><td> 251.97376</td><td>All Variables</td></tr>\n",
       "\t<tr><td>449</td><td> 330.23653</td><td>All Variables</td></tr>\n",
       "\t<tr><td>451</td><td> 347.24700</td><td>All Variables</td></tr>\n",
       "</tbody>\n",
       "</table>\n"
      ],
      "text/latex": [
       "A tibble: 6 × 3\n",
       "\\begin{tabular}{lll}\n",
       " RENTED\\_BIKE\\_COUNT & .pred & model\\\\\n",
       " <dbl> & <dbl> & <chr>\\\\\n",
       "\\hline\n",
       "\t 173 &  -78.24847 & All Variables\\\\\n",
       "\t  78 & -191.16239 & All Variables\\\\\n",
       "\t 181 &  -25.99046 & All Variables\\\\\n",
       "\t 490 &  251.97376 & All Variables\\\\\n",
       "\t 449 &  330.23653 & All Variables\\\\\n",
       "\t 451 &  347.24700 & All Variables\\\\\n",
       "\\end{tabular}\n"
      ],
      "text/markdown": [
       "\n",
       "A tibble: 6 × 3\n",
       "\n",
       "| RENTED_BIKE_COUNT &lt;dbl&gt; | .pred &lt;dbl&gt; | model &lt;chr&gt; |\n",
       "|---|---|---|\n",
       "| 173 |  -78.24847 | All Variables |\n",
       "|  78 | -191.16239 | All Variables |\n",
       "| 181 |  -25.99046 | All Variables |\n",
       "| 490 |  251.97376 | All Variables |\n",
       "| 449 |  330.23653 | All Variables |\n",
       "| 451 |  347.24700 | All Variables |\n",
       "\n"
      ],
      "text/plain": [
       "  RENTED_BIKE_COUNT .pred      model        \n",
       "1 173                -78.24847 All Variables\n",
       "2  78               -191.16239 All Variables\n",
       "3 181                -25.99046 All Variables\n",
       "4 490                251.97376 All Variables\n",
       "5 449                330.23653 All Variables\n",
       "6 451                347.24700 All Variables"
      ]
     },
     "metadata": {},
     "output_type": "display_data"
    }
   ],
   "source": [
    "# Load necessary libraries\n",
    "library(tidymodels)\n",
    "\n",
    "# Generate predictions for lm_model_weather\n",
    "predictions_weather <- predict(lm_model_weather_fit, new_data = test_data)\n",
    "\n",
    "# Create a test results dataframe for lm_model_weather\n",
    "test_results_weather <- test_data %>%\n",
    "  select(RENTED_BIKE_COUNT) %>%\n",
    "  mutate(\n",
    "    .pred = predictions_weather$.pred,\n",
    "    model = \"Weather Only\"\n",
    "  )\n",
    "\n",
    "# Generate predictions for lm_model_all\n",
    "predictions_all <- predict(lm_model_all_fit, new_data = test_data)\n",
    "\n",
    "# Create a test results dataframe for lm_model_all\n",
    "test_results_all <- test_data %>%\n",
    "  select(RENTED_BIKE_COUNT) %>%\n",
    "  mutate(\n",
    "    .pred = predictions_all$.pred,\n",
    "    model = \"All Variables\"\n",
    "  )\n",
    "\n",
    "# Display the first few rows of each test results dataframe\n",
    "head(test_results_weather)\n",
    "head(test_results_all)\n"
   ]
  },
  {
   "cell_type": "markdown",
   "metadata": {},
   "source": [
    "NOTE: if you happen to see a warning like : `prediction from a rank-deficient fit may be misleading`, it may be casued by collinearity in the predictor variables. Collinearity means that one predictor variable can be predicted from other predictor variables to some degree. For example, `RAINFALL` could be predicted by `HUMIDITY`.\n",
    "\n",
    "But dont worry, you will address `glmnet` models (Lasso and Elastic-Net Regularized Generalized Linear Models) instead of regular `regression` models to solve this issue and futher improve the model performance.\n"
   ]
  },
  {
   "cell_type": "markdown",
   "metadata": {},
   "source": [
    "Next, let's calculate and print the R-squared and RMSE for the two test results\n"
   ]
  },
  {
   "cell_type": "markdown",
   "metadata": {},
   "source": [
    "_TODO:_ Use `rsq()` and `rmse()` functions to calculate R-squared and RMSE metrics for the two test results\n"
   ]
  },
  {
   "cell_type": "code",
   "execution_count": 17,
   "metadata": {
    "tags": []
   },
   "outputs": [
    {
     "name": "stdout",
     "output_type": "stream",
     "text": [
      "[1] \"Weather model metrics:\"\n",
      "[1] \"R-squared: 0.445869213882855\"\n",
      "[1] \"RMSE: 470.443556180436\"\n",
      "[1] \"All variables model metrics:\"\n",
      "[1] \"R-squared: 0.659261479510121\"\n",
      "[1] \"RMSE: 369.170923139067\"\n"
     ]
    }
   ],
   "source": [
    "# rsq_weather <- rsq(...)\n",
    "# rsq_all <- rsq(...)\n",
    "\n",
    "# rmse_weather <- rmse(...)\n",
    "# rmse_all <- rmse(...)\n",
    "\n",
    "# Calculate R-squared and RMSE for lm_model_weather\n",
    "rsq_weather <- rsq(test_results_weather, truth = RENTED_BIKE_COUNT, estimate = .pred)\n",
    "rmse_weather <- rmse(test_results_weather, truth = RENTED_BIKE_COUNT, estimate = .pred)\n",
    "\n",
    "# Calculate R-squared and RMSE for lm_model_all\n",
    "rsq_all <- rsq(test_results_all, truth = RENTED_BIKE_COUNT, estimate = .pred)\n",
    "rmse_all <- rmse(test_results_all, truth = RENTED_BIKE_COUNT, estimate = .pred)\n",
    "\n",
    "# Print the results\n",
    "print(\"Weather model metrics:\")\n",
    "print(paste(\"R-squared:\", rsq_weather$.estimate))\n",
    "print(paste(\"RMSE:\", rmse_weather$.estimate))\n",
    "\n",
    "print(\"All variables model metrics:\")\n",
    "print(paste(\"R-squared:\", rsq_all$.estimate))\n",
    "print(paste(\"RMSE:\", rmse_all$.estimate))\n"
   ]
  },
  {
   "cell_type": "markdown",
   "metadata": {},
   "source": [
    "From these tables, you should find that the test results from `lm_model_all` are much better. It means that using both weather and datetime variables in the model generates better prediction results.\n"
   ]
  },
  {
   "cell_type": "markdown",
   "metadata": {},
   "source": [
    "Since `lm_model_all` has many predictor variables, let's check which predictor variables have larger coefficients. Variables with larger coefficients in the model means they attribute more in the prediction of `RENTED_BIKE_COUNT`. In addition, since all predictor variables are normalized to the same scale, 0 to 1, we thus can compare their coefficients directly.\n"
   ]
  },
  {
   "cell_type": "markdown",
   "metadata": {},
   "source": [
    "You could try building another regression model using the non-normalized `seoul_bike_sharing_converted.csv` dataset, and you would find that the coefficients are much different.\n"
   ]
  },
  {
   "cell_type": "markdown",
   "metadata": {},
   "source": [
    "First let's print all coefficients:\n"
   ]
  },
  {
   "cell_type": "code",
   "execution_count": 20,
   "metadata": {
    "tags": []
   },
   "outputs": [
    {
     "data": {
      "text/html": [
       "<table>\n",
       "<caption>A data.frame: 38 × 2</caption>\n",
       "<thead>\n",
       "\t<tr><th></th><th scope=col>Variable</th><th scope=col>Coefficient</th></tr>\n",
       "\t<tr><th></th><th scope=col>&lt;fct&gt;</th><th scope=col>&lt;dbl&gt;</th></tr>\n",
       "</thead>\n",
       "<tbody>\n",
       "\t<tr><th scope=row>TEMPERATURE</th><td>TEMPERATURE          </td><td>  810.603987</td></tr>\n",
       "\t<tr><th scope=row>HUMIDITY</th><td>HUMIDITY             </td><td> -920.586909</td></tr>\n",
       "\t<tr><th scope=row>WIND_SPEED</th><td>WIND_SPEED           </td><td>   -9.313319</td></tr>\n",
       "\t<tr><th scope=row>VISIBILITY</th><td>VISIBILITY           </td><td>   24.368049</td></tr>\n",
       "\t<tr><th scope=row>DEW_POINT_TEMPERATURE</th><td>DEW_POINT_TEMPERATURE</td><td>  632.384298</td></tr>\n",
       "\t<tr><th scope=row>SOLAR_RADIATION</th><td>SOLAR_RADIATION      </td><td>  249.752454</td></tr>\n",
       "\t<tr><th scope=row>RAINFALL</th><td>RAINFALL             </td><td>-1982.940423</td></tr>\n",
       "\t<tr><th scope=row>SNOWFALL</th><td>SNOWFALL             </td><td>  232.450790</td></tr>\n",
       "\t<tr><th scope=row>`0`</th><td>`0`                  </td><td>  -12.499804</td></tr>\n",
       "\t<tr><th scope=row>`1`</th><td>`1`                  </td><td> -125.701499</td></tr>\n",
       "\t<tr><th scope=row>`10`</th><td>`10`                 </td><td> -222.233262</td></tr>\n",
       "\t<tr><th scope=row>`11`</th><td>`11`                 </td><td> -231.428411</td></tr>\n",
       "\t<tr><th scope=row>`12`</th><td>`12`                 </td><td> -194.605041</td></tr>\n",
       "\t<tr><th scope=row>`13`</th><td>`13`                 </td><td> -189.528426</td></tr>\n",
       "\t<tr><th scope=row>`14`</th><td>`14`                 </td><td> -183.060291</td></tr>\n",
       "\t<tr><th scope=row>`15`</th><td>`15`                 </td><td> -103.126885</td></tr>\n",
       "\t<tr><th scope=row>`16`</th><td>`16`                 </td><td>   43.597895</td></tr>\n",
       "\t<tr><th scope=row>`17`</th><td>`17`                 </td><td>  306.732435</td></tr>\n",
       "\t<tr><th scope=row>`18`</th><td>`18`                 </td><td>  782.841507</td></tr>\n",
       "\t<tr><th scope=row>`19`</th><td>`19`                 </td><td>  519.455508</td></tr>\n",
       "\t<tr><th scope=row>`2`</th><td>`2`                  </td><td> -259.946174</td></tr>\n",
       "\t<tr><th scope=row>`20`</th><td>`20`                 </td><td>  394.634676</td></tr>\n",
       "\t<tr><th scope=row>`21`</th><td>`21`                 </td><td>  430.185215</td></tr>\n",
       "\t<tr><th scope=row>`22`</th><td>`22`                 </td><td>  322.663949</td></tr>\n",
       "\t<tr><th scope=row>`23`</th><td>`23`                 </td><td>   90.180803</td></tr>\n",
       "\t<tr><th scope=row>`3`</th><td>`3`                  </td><td> -327.244955</td></tr>\n",
       "\t<tr><th scope=row>`4`</th><td>`4`                  </td><td> -389.558392</td></tr>\n",
       "\t<tr><th scope=row>`5`</th><td>`5`                  </td><td> -379.055209</td></tr>\n",
       "\t<tr><th scope=row>`6`</th><td>`6`                  </td><td> -216.689105</td></tr>\n",
       "\t<tr><th scope=row>`7`</th><td>`7`                  </td><td>  110.491959</td></tr>\n",
       "\t<tr><th scope=row>`8`</th><td>`8`                  </td><td>  502.353808</td></tr>\n",
       "\t<tr><th scope=row>`9`</th><td>`9`                  </td><td>          NA</td></tr>\n",
       "\t<tr><th scope=row>AUTUMN</th><td>AUTUMN               </td><td>  357.978265</td></tr>\n",
       "\t<tr><th scope=row>SPRING</th><td>SPRING               </td><td>  194.421437</td></tr>\n",
       "\t<tr><th scope=row>SUMMER</th><td>SUMMER               </td><td>  172.901302</td></tr>\n",
       "\t<tr><th scope=row>WINTER</th><td>WINTER               </td><td>          NA</td></tr>\n",
       "\t<tr><th scope=row>HOLIDAY</th><td>HOLIDAY              </td><td> -129.167078</td></tr>\n",
       "\t<tr><th scope=row>NO_HOLIDAY</th><td>NO_HOLIDAY           </td><td>          NA</td></tr>\n",
       "</tbody>\n",
       "</table>\n"
      ],
      "text/latex": [
       "A data.frame: 38 × 2\n",
       "\\begin{tabular}{r|ll}\n",
       "  & Variable & Coefficient\\\\\n",
       "  & <fct> & <dbl>\\\\\n",
       "\\hline\n",
       "\tTEMPERATURE & TEMPERATURE           &   810.603987\\\\\n",
       "\tHUMIDITY & HUMIDITY              &  -920.586909\\\\\n",
       "\tWIND\\_SPEED & WIND\\_SPEED            &    -9.313319\\\\\n",
       "\tVISIBILITY & VISIBILITY            &    24.368049\\\\\n",
       "\tDEW\\_POINT\\_TEMPERATURE & DEW\\_POINT\\_TEMPERATURE &   632.384298\\\\\n",
       "\tSOLAR\\_RADIATION & SOLAR\\_RADIATION       &   249.752454\\\\\n",
       "\tRAINFALL & RAINFALL              & -1982.940423\\\\\n",
       "\tSNOWFALL & SNOWFALL              &   232.450790\\\\\n",
       "\t`0` & `0`                   &   -12.499804\\\\\n",
       "\t`1` & `1`                   &  -125.701499\\\\\n",
       "\t`10` & `10`                  &  -222.233262\\\\\n",
       "\t`11` & `11`                  &  -231.428411\\\\\n",
       "\t`12` & `12`                  &  -194.605041\\\\\n",
       "\t`13` & `13`                  &  -189.528426\\\\\n",
       "\t`14` & `14`                  &  -183.060291\\\\\n",
       "\t`15` & `15`                  &  -103.126885\\\\\n",
       "\t`16` & `16`                  &    43.597895\\\\\n",
       "\t`17` & `17`                  &   306.732435\\\\\n",
       "\t`18` & `18`                  &   782.841507\\\\\n",
       "\t`19` & `19`                  &   519.455508\\\\\n",
       "\t`2` & `2`                   &  -259.946174\\\\\n",
       "\t`20` & `20`                  &   394.634676\\\\\n",
       "\t`21` & `21`                  &   430.185215\\\\\n",
       "\t`22` & `22`                  &   322.663949\\\\\n",
       "\t`23` & `23`                  &    90.180803\\\\\n",
       "\t`3` & `3`                   &  -327.244955\\\\\n",
       "\t`4` & `4`                   &  -389.558392\\\\\n",
       "\t`5` & `5`                   &  -379.055209\\\\\n",
       "\t`6` & `6`                   &  -216.689105\\\\\n",
       "\t`7` & `7`                   &   110.491959\\\\\n",
       "\t`8` & `8`                   &   502.353808\\\\\n",
       "\t`9` & `9`                   &           NA\\\\\n",
       "\tAUTUMN & AUTUMN                &   357.978265\\\\\n",
       "\tSPRING & SPRING                &   194.421437\\\\\n",
       "\tSUMMER & SUMMER                &   172.901302\\\\\n",
       "\tWINTER & WINTER                &           NA\\\\\n",
       "\tHOLIDAY & HOLIDAY               &  -129.167078\\\\\n",
       "\tNO\\_HOLIDAY & NO\\_HOLIDAY            &           NA\\\\\n",
       "\\end{tabular}\n"
      ],
      "text/markdown": [
       "\n",
       "A data.frame: 38 × 2\n",
       "\n",
       "| <!--/--> | Variable &lt;fct&gt; | Coefficient &lt;dbl&gt; |\n",
       "|---|---|---|\n",
       "| TEMPERATURE | TEMPERATURE           |   810.603987 |\n",
       "| HUMIDITY | HUMIDITY              |  -920.586909 |\n",
       "| WIND_SPEED | WIND_SPEED            |    -9.313319 |\n",
       "| VISIBILITY | VISIBILITY            |    24.368049 |\n",
       "| DEW_POINT_TEMPERATURE | DEW_POINT_TEMPERATURE |   632.384298 |\n",
       "| SOLAR_RADIATION | SOLAR_RADIATION       |   249.752454 |\n",
       "| RAINFALL | RAINFALL              | -1982.940423 |\n",
       "| SNOWFALL | SNOWFALL              |   232.450790 |\n",
       "| `0` | `0`                   |   -12.499804 |\n",
       "| `1` | `1`                   |  -125.701499 |\n",
       "| `10` | `10`                  |  -222.233262 |\n",
       "| `11` | `11`                  |  -231.428411 |\n",
       "| `12` | `12`                  |  -194.605041 |\n",
       "| `13` | `13`                  |  -189.528426 |\n",
       "| `14` | `14`                  |  -183.060291 |\n",
       "| `15` | `15`                  |  -103.126885 |\n",
       "| `16` | `16`                  |    43.597895 |\n",
       "| `17` | `17`                  |   306.732435 |\n",
       "| `18` | `18`                  |   782.841507 |\n",
       "| `19` | `19`                  |   519.455508 |\n",
       "| `2` | `2`                   |  -259.946174 |\n",
       "| `20` | `20`                  |   394.634676 |\n",
       "| `21` | `21`                  |   430.185215 |\n",
       "| `22` | `22`                  |   322.663949 |\n",
       "| `23` | `23`                  |    90.180803 |\n",
       "| `3` | `3`                   |  -327.244955 |\n",
       "| `4` | `4`                   |  -389.558392 |\n",
       "| `5` | `5`                   |  -379.055209 |\n",
       "| `6` | `6`                   |  -216.689105 |\n",
       "| `7` | `7`                   |   110.491959 |\n",
       "| `8` | `8`                   |   502.353808 |\n",
       "| `9` | `9`                   |           NA |\n",
       "| AUTUMN | AUTUMN                |   357.978265 |\n",
       "| SPRING | SPRING                |   194.421437 |\n",
       "| SUMMER | SUMMER                |   172.901302 |\n",
       "| WINTER | WINTER                |           NA |\n",
       "| HOLIDAY | HOLIDAY               |  -129.167078 |\n",
       "| NO_HOLIDAY | NO_HOLIDAY            |           NA |\n",
       "\n"
      ],
      "text/plain": [
       "                      Variable              Coefficient \n",
       "TEMPERATURE           TEMPERATURE             810.603987\n",
       "HUMIDITY              HUMIDITY               -920.586909\n",
       "WIND_SPEED            WIND_SPEED               -9.313319\n",
       "VISIBILITY            VISIBILITY               24.368049\n",
       "DEW_POINT_TEMPERATURE DEW_POINT_TEMPERATURE   632.384298\n",
       "SOLAR_RADIATION       SOLAR_RADIATION         249.752454\n",
       "RAINFALL              RAINFALL              -1982.940423\n",
       "SNOWFALL              SNOWFALL                232.450790\n",
       "`0`                   `0`                     -12.499804\n",
       "`1`                   `1`                    -125.701499\n",
       "`10`                  `10`                   -222.233262\n",
       "`11`                  `11`                   -231.428411\n",
       "`12`                  `12`                   -194.605041\n",
       "`13`                  `13`                   -189.528426\n",
       "`14`                  `14`                   -183.060291\n",
       "`15`                  `15`                   -103.126885\n",
       "`16`                  `16`                     43.597895\n",
       "`17`                  `17`                    306.732435\n",
       "`18`                  `18`                    782.841507\n",
       "`19`                  `19`                    519.455508\n",
       "`2`                   `2`                    -259.946174\n",
       "`20`                  `20`                    394.634676\n",
       "`21`                  `21`                    430.185215\n",
       "`22`                  `22`                    322.663949\n",
       "`23`                  `23`                     90.180803\n",
       "`3`                   `3`                    -327.244955\n",
       "`4`                   `4`                    -389.558392\n",
       "`5`                   `5`                    -379.055209\n",
       "`6`                   `6`                    -216.689105\n",
       "`7`                   `7`                     110.491959\n",
       "`8`                   `8`                     502.353808\n",
       "`9`                   `9`                             NA\n",
       "AUTUMN                AUTUMN                  357.978265\n",
       "SPRING                SPRING                  194.421437\n",
       "SUMMER                SUMMER                  172.901302\n",
       "WINTER                WINTER                          NA\n",
       "HOLIDAY               HOLIDAY                -129.167078\n",
       "NO_HOLIDAY            NO_HOLIDAY                      NA"
      ]
     },
     "metadata": {},
     "output_type": "display_data"
    }
   ],
   "source": [
    "#lm_model_all$fit$coefficients\n",
    "\n",
    "# Extract coefficients from the lm_model_all model\n",
    "coefficients_all <- coef(lm_model_all_fit$fit)\n",
    "\n",
    "# Convert coefficients to a data frame for sorting and visualization\n",
    "coefficients_df <- data.frame(\n",
    "  Variable = names(coefficients_all),\n",
    "  Coefficient = coefficients_all\n",
    ")\n",
    "\n",
    "# Remove the intercept for better visualization\n",
    "coefficients_df <- coefficients_df[coefficients_df$Variable != \"(Intercept)\", ]\n",
    "\n",
    "coefficients_df"
   ]
  },
  {
   "cell_type": "markdown",
   "metadata": {},
   "source": [
    "hmm, it's not very clear to compare the coefficients from a long and unsorted list. Next, you need to sort and visualize them using a bar chart\n"
   ]
  },
  {
   "cell_type": "markdown",
   "metadata": {},
   "source": [
    "_TODO:_ Sort the coefficient list in descending order and visualize the result using `ggplot` and `geom_bar` \n"
   ]
  },
  {
   "cell_type": "code",
   "execution_count": 21,
   "metadata": {
    "tags": []
   },
   "outputs": [
    {
     "data": {
      "text/html": [
       "<table>\n",
       "<caption>A data.frame: 38 × 2</caption>\n",
       "<thead>\n",
       "\t<tr><th></th><th scope=col>Variable</th><th scope=col>Coefficient</th></tr>\n",
       "\t<tr><th></th><th scope=col>&lt;fct&gt;</th><th scope=col>&lt;dbl&gt;</th></tr>\n",
       "</thead>\n",
       "<tbody>\n",
       "\t<tr><th scope=row>RAINFALL</th><td>RAINFALL             </td><td>-1982.940423</td></tr>\n",
       "\t<tr><th scope=row>HUMIDITY</th><td>HUMIDITY             </td><td> -920.586909</td></tr>\n",
       "\t<tr><th scope=row>TEMPERATURE</th><td>TEMPERATURE          </td><td>  810.603987</td></tr>\n",
       "\t<tr><th scope=row>`18`</th><td>`18`                 </td><td>  782.841507</td></tr>\n",
       "\t<tr><th scope=row>DEW_POINT_TEMPERATURE</th><td>DEW_POINT_TEMPERATURE</td><td>  632.384298</td></tr>\n",
       "\t<tr><th scope=row>`19`</th><td>`19`                 </td><td>  519.455508</td></tr>\n",
       "\t<tr><th scope=row>`8`</th><td>`8`                  </td><td>  502.353808</td></tr>\n",
       "\t<tr><th scope=row>`21`</th><td>`21`                 </td><td>  430.185215</td></tr>\n",
       "\t<tr><th scope=row>`20`</th><td>`20`                 </td><td>  394.634676</td></tr>\n",
       "\t<tr><th scope=row>`4`</th><td>`4`                  </td><td> -389.558392</td></tr>\n",
       "\t<tr><th scope=row>`5`</th><td>`5`                  </td><td> -379.055209</td></tr>\n",
       "\t<tr><th scope=row>AUTUMN</th><td>AUTUMN               </td><td>  357.978265</td></tr>\n",
       "\t<tr><th scope=row>`3`</th><td>`3`                  </td><td> -327.244955</td></tr>\n",
       "\t<tr><th scope=row>`22`</th><td>`22`                 </td><td>  322.663949</td></tr>\n",
       "\t<tr><th scope=row>`17`</th><td>`17`                 </td><td>  306.732435</td></tr>\n",
       "\t<tr><th scope=row>`2`</th><td>`2`                  </td><td> -259.946174</td></tr>\n",
       "\t<tr><th scope=row>SOLAR_RADIATION</th><td>SOLAR_RADIATION      </td><td>  249.752454</td></tr>\n",
       "\t<tr><th scope=row>SNOWFALL</th><td>SNOWFALL             </td><td>  232.450790</td></tr>\n",
       "\t<tr><th scope=row>`11`</th><td>`11`                 </td><td> -231.428411</td></tr>\n",
       "\t<tr><th scope=row>`10`</th><td>`10`                 </td><td> -222.233262</td></tr>\n",
       "\t<tr><th scope=row>`6`</th><td>`6`                  </td><td> -216.689105</td></tr>\n",
       "\t<tr><th scope=row>`12`</th><td>`12`                 </td><td> -194.605041</td></tr>\n",
       "\t<tr><th scope=row>SPRING</th><td>SPRING               </td><td>  194.421437</td></tr>\n",
       "\t<tr><th scope=row>`13`</th><td>`13`                 </td><td> -189.528426</td></tr>\n",
       "\t<tr><th scope=row>`14`</th><td>`14`                 </td><td> -183.060291</td></tr>\n",
       "\t<tr><th scope=row>SUMMER</th><td>SUMMER               </td><td>  172.901302</td></tr>\n",
       "\t<tr><th scope=row>HOLIDAY</th><td>HOLIDAY              </td><td> -129.167078</td></tr>\n",
       "\t<tr><th scope=row>`1`</th><td>`1`                  </td><td> -125.701499</td></tr>\n",
       "\t<tr><th scope=row>`7`</th><td>`7`                  </td><td>  110.491959</td></tr>\n",
       "\t<tr><th scope=row>`15`</th><td>`15`                 </td><td> -103.126885</td></tr>\n",
       "\t<tr><th scope=row>`23`</th><td>`23`                 </td><td>   90.180803</td></tr>\n",
       "\t<tr><th scope=row>`16`</th><td>`16`                 </td><td>   43.597895</td></tr>\n",
       "\t<tr><th scope=row>VISIBILITY</th><td>VISIBILITY           </td><td>   24.368049</td></tr>\n",
       "\t<tr><th scope=row>`0`</th><td>`0`                  </td><td>  -12.499804</td></tr>\n",
       "\t<tr><th scope=row>WIND_SPEED</th><td>WIND_SPEED           </td><td>   -9.313319</td></tr>\n",
       "\t<tr><th scope=row>`9`</th><td>`9`                  </td><td>          NA</td></tr>\n",
       "\t<tr><th scope=row>WINTER</th><td>WINTER               </td><td>          NA</td></tr>\n",
       "\t<tr><th scope=row>NO_HOLIDAY</th><td>NO_HOLIDAY           </td><td>          NA</td></tr>\n",
       "</tbody>\n",
       "</table>\n"
      ],
      "text/latex": [
       "A data.frame: 38 × 2\n",
       "\\begin{tabular}{r|ll}\n",
       "  & Variable & Coefficient\\\\\n",
       "  & <fct> & <dbl>\\\\\n",
       "\\hline\n",
       "\tRAINFALL & RAINFALL              & -1982.940423\\\\\n",
       "\tHUMIDITY & HUMIDITY              &  -920.586909\\\\\n",
       "\tTEMPERATURE & TEMPERATURE           &   810.603987\\\\\n",
       "\t`18` & `18`                  &   782.841507\\\\\n",
       "\tDEW\\_POINT\\_TEMPERATURE & DEW\\_POINT\\_TEMPERATURE &   632.384298\\\\\n",
       "\t`19` & `19`                  &   519.455508\\\\\n",
       "\t`8` & `8`                   &   502.353808\\\\\n",
       "\t`21` & `21`                  &   430.185215\\\\\n",
       "\t`20` & `20`                  &   394.634676\\\\\n",
       "\t`4` & `4`                   &  -389.558392\\\\\n",
       "\t`5` & `5`                   &  -379.055209\\\\\n",
       "\tAUTUMN & AUTUMN                &   357.978265\\\\\n",
       "\t`3` & `3`                   &  -327.244955\\\\\n",
       "\t`22` & `22`                  &   322.663949\\\\\n",
       "\t`17` & `17`                  &   306.732435\\\\\n",
       "\t`2` & `2`                   &  -259.946174\\\\\n",
       "\tSOLAR\\_RADIATION & SOLAR\\_RADIATION       &   249.752454\\\\\n",
       "\tSNOWFALL & SNOWFALL              &   232.450790\\\\\n",
       "\t`11` & `11`                  &  -231.428411\\\\\n",
       "\t`10` & `10`                  &  -222.233262\\\\\n",
       "\t`6` & `6`                   &  -216.689105\\\\\n",
       "\t`12` & `12`                  &  -194.605041\\\\\n",
       "\tSPRING & SPRING                &   194.421437\\\\\n",
       "\t`13` & `13`                  &  -189.528426\\\\\n",
       "\t`14` & `14`                  &  -183.060291\\\\\n",
       "\tSUMMER & SUMMER                &   172.901302\\\\\n",
       "\tHOLIDAY & HOLIDAY               &  -129.167078\\\\\n",
       "\t`1` & `1`                   &  -125.701499\\\\\n",
       "\t`7` & `7`                   &   110.491959\\\\\n",
       "\t`15` & `15`                  &  -103.126885\\\\\n",
       "\t`23` & `23`                  &    90.180803\\\\\n",
       "\t`16` & `16`                  &    43.597895\\\\\n",
       "\tVISIBILITY & VISIBILITY            &    24.368049\\\\\n",
       "\t`0` & `0`                   &   -12.499804\\\\\n",
       "\tWIND\\_SPEED & WIND\\_SPEED            &    -9.313319\\\\\n",
       "\t`9` & `9`                   &           NA\\\\\n",
       "\tWINTER & WINTER                &           NA\\\\\n",
       "\tNO\\_HOLIDAY & NO\\_HOLIDAY            &           NA\\\\\n",
       "\\end{tabular}\n"
      ],
      "text/markdown": [
       "\n",
       "A data.frame: 38 × 2\n",
       "\n",
       "| <!--/--> | Variable &lt;fct&gt; | Coefficient &lt;dbl&gt; |\n",
       "|---|---|---|\n",
       "| RAINFALL | RAINFALL              | -1982.940423 |\n",
       "| HUMIDITY | HUMIDITY              |  -920.586909 |\n",
       "| TEMPERATURE | TEMPERATURE           |   810.603987 |\n",
       "| `18` | `18`                  |   782.841507 |\n",
       "| DEW_POINT_TEMPERATURE | DEW_POINT_TEMPERATURE |   632.384298 |\n",
       "| `19` | `19`                  |   519.455508 |\n",
       "| `8` | `8`                   |   502.353808 |\n",
       "| `21` | `21`                  |   430.185215 |\n",
       "| `20` | `20`                  |   394.634676 |\n",
       "| `4` | `4`                   |  -389.558392 |\n",
       "| `5` | `5`                   |  -379.055209 |\n",
       "| AUTUMN | AUTUMN                |   357.978265 |\n",
       "| `3` | `3`                   |  -327.244955 |\n",
       "| `22` | `22`                  |   322.663949 |\n",
       "| `17` | `17`                  |   306.732435 |\n",
       "| `2` | `2`                   |  -259.946174 |\n",
       "| SOLAR_RADIATION | SOLAR_RADIATION       |   249.752454 |\n",
       "| SNOWFALL | SNOWFALL              |   232.450790 |\n",
       "| `11` | `11`                  |  -231.428411 |\n",
       "| `10` | `10`                  |  -222.233262 |\n",
       "| `6` | `6`                   |  -216.689105 |\n",
       "| `12` | `12`                  |  -194.605041 |\n",
       "| SPRING | SPRING                |   194.421437 |\n",
       "| `13` | `13`                  |  -189.528426 |\n",
       "| `14` | `14`                  |  -183.060291 |\n",
       "| SUMMER | SUMMER                |   172.901302 |\n",
       "| HOLIDAY | HOLIDAY               |  -129.167078 |\n",
       "| `1` | `1`                   |  -125.701499 |\n",
       "| `7` | `7`                   |   110.491959 |\n",
       "| `15` | `15`                  |  -103.126885 |\n",
       "| `23` | `23`                  |    90.180803 |\n",
       "| `16` | `16`                  |    43.597895 |\n",
       "| VISIBILITY | VISIBILITY            |    24.368049 |\n",
       "| `0` | `0`                   |   -12.499804 |\n",
       "| WIND_SPEED | WIND_SPEED            |    -9.313319 |\n",
       "| `9` | `9`                   |           NA |\n",
       "| WINTER | WINTER                |           NA |\n",
       "| NO_HOLIDAY | NO_HOLIDAY            |           NA |\n",
       "\n"
      ],
      "text/plain": [
       "                      Variable              Coefficient \n",
       "RAINFALL              RAINFALL              -1982.940423\n",
       "HUMIDITY              HUMIDITY               -920.586909\n",
       "TEMPERATURE           TEMPERATURE             810.603987\n",
       "`18`                  `18`                    782.841507\n",
       "DEW_POINT_TEMPERATURE DEW_POINT_TEMPERATURE   632.384298\n",
       "`19`                  `19`                    519.455508\n",
       "`8`                   `8`                     502.353808\n",
       "`21`                  `21`                    430.185215\n",
       "`20`                  `20`                    394.634676\n",
       "`4`                   `4`                    -389.558392\n",
       "`5`                   `5`                    -379.055209\n",
       "AUTUMN                AUTUMN                  357.978265\n",
       "`3`                   `3`                    -327.244955\n",
       "`22`                  `22`                    322.663949\n",
       "`17`                  `17`                    306.732435\n",
       "`2`                   `2`                    -259.946174\n",
       "SOLAR_RADIATION       SOLAR_RADIATION         249.752454\n",
       "SNOWFALL              SNOWFALL                232.450790\n",
       "`11`                  `11`                   -231.428411\n",
       "`10`                  `10`                   -222.233262\n",
       "`6`                   `6`                    -216.689105\n",
       "`12`                  `12`                   -194.605041\n",
       "SPRING                SPRING                  194.421437\n",
       "`13`                  `13`                   -189.528426\n",
       "`14`                  `14`                   -183.060291\n",
       "SUMMER                SUMMER                  172.901302\n",
       "HOLIDAY               HOLIDAY                -129.167078\n",
       "`1`                   `1`                    -125.701499\n",
       "`7`                   `7`                     110.491959\n",
       "`15`                  `15`                   -103.126885\n",
       "`23`                  `23`                     90.180803\n",
       "`16`                  `16`                     43.597895\n",
       "VISIBILITY            VISIBILITY               24.368049\n",
       "`0`                   `0`                     -12.499804\n",
       "WIND_SPEED            WIND_SPEED               -9.313319\n",
       "`9`                   `9`                             NA\n",
       "WINTER                WINTER                          NA\n",
       "NO_HOLIDAY            NO_HOLIDAY                      NA"
      ]
     },
     "metadata": {},
     "output_type": "display_data"
    }
   ],
   "source": [
    "# Sort coefficient list\n",
    "\n",
    "# Sort coefficients in descending order\n",
    "coefficients_df <- coefficients_df[order(-abs(coefficients_df$Coefficient)), ]\n",
    "\n",
    "coefficients_df"
   ]
  },
  {
   "cell_type": "code",
   "execution_count": 22,
   "metadata": {
    "tags": []
   },
   "outputs": [
    {
     "name": "stderr",
     "output_type": "stream",
     "text": [
      "Warning message:\n",
      "“Removed 3 rows containing missing values (position_stack).”"
     ]
    },
    {
     "data": {},
     "metadata": {},
     "output_type": "display_data"
    },
    {
     "data": {
      "image/png": "[encoded data removed]",
      "text/plain": [
       "plot without title"
      ]
     },
     "metadata": {},
     "output_type": "display_data",
     "source": "R display func"
    }
   ],
   "source": [
    "# Visualize the list using ggplot and geom_bar\n",
    "\n",
    "# Visualize the coefficients using ggplot\n",
    "ggplot(coefficients_df, aes(x = reorder(Variable, abs(Coefficient)), y = Coefficient)) +\n",
    "  geom_bar(stat = \"identity\", fill = \"steelblue\") +\n",
    "  coord_flip() +\n",
    "  labs(title = \"Sorted Coefficients of lm_model_all\",\n",
    "       x = \"Predictor Variables\",\n",
    "       y = \"Coefficient Value\") +\n",
    "  theme_minimal()"
   ]
  },
  {
   "cell_type": "markdown",
   "metadata": {},
   "source": [
    "You should see a sorted coefficient bar chart like the following example: \n"
   ]
  },
  {
   "cell_type": "markdown",
   "metadata": {},
   "source": [
    "<a href=\"https://cognitiveclass.ai/\">\n",
    "    <img src=\"https://cf-courses-data.s3.us.cloud-object-storage.appdomain.cloud/IBMDeveloperSkillsNetwork-RP0321EN-SkillsNetwork/labs/module_4/images/coefficient_chart.png\" width=\"600\" align=\"center\">\n",
    "</a>\n"
   ]
  },
  {
   "cell_type": "markdown",
   "metadata": {},
   "source": [
    "# Brief Conclusion;\n",
    "\n",
    "Based on the visualization of sorted coefficients for lm_model_all, we can draw several important conclusions:\n",
    "\n",
    "1-Temporal factors are highly influential: \n",
    "\n",
    ">Variables related to time, such as specific hours of the day and seasons, appear to have some of the largest coefficients. This suggests that the time of day and time of year are critical factors in predicting bike rental demand.\n",
    "\n",
    "2-Weather variables have significant impact: \n",
    "\n",
    ">Temperature, in particular, seems to have a strong positive correlation with bike rentals. Other weather factors like humidity, wind speed, and solar radiation also play notable roles in predicting demand.\n",
    "\n",
    "3-Non-linear relationships: \n",
    "\n",
    ">The presence of both positive and negative coefficients for related variables (e.g., different hours or seasons) indicates non-linear relationships between these factors and bike rental demand.\n",
    "\n",
    "4-Holidays and functioning days matter: \n",
    "\n",
    ">These variables likely have substantial coefficients, reflecting their importance in predicting rental patterns.\n",
    "\n",
    "5-Some variables have minimal impact: \n",
    "\n",
    ">Factors with coefficients close to zero contribute little to the prediction and might be considered for removal to simplify the model.\n",
    "\n",
    "In conclusion, this analysis reveals that bike rental demand is influenced by a complex interplay of temporal, weather-related, and operational factors. The model's improved performance when including all variables (compared to weather-only) underscores the importance of considering a comprehensive set of predictors for accurate demand forecasting in bike-sharing systems."
   ]
  },
  {
   "cell_type": "markdown",
   "metadata": {},
   "source": [
    "Mark down these 'top-ranked variables by coefficient', which will be used for model refinments in the next labs.\n"
   ]
  },
  {
   "cell_type": "markdown",
   "metadata": {},
   "source": [
    "Note that here the main reason we use absolute value is to easily identify important variables, i.e. variables with large magnitudes, no matter it's negative or positive. If we want to interprete the model then it's better to seperate the positive and negative coefficients.\n"
   ]
  },
  {
   "cell_type": "markdown",
   "metadata": {},
   "source": [
    "# Next Steps\n"
   ]
  },
  {
   "cell_type": "markdown",
   "metadata": {},
   "source": [
    "Great! Now you have built a baseline linear regression model to predict hourly bike rent count, with reasonably good performance. In the next lab, you will be refining the baseline model to improve its performance.\n"
   ]
  },
  {
   "cell_type": "markdown",
   "metadata": {},
   "source": [
    "## Authors\n",
    "\n",
    "<a href=\"https://www.linkedin.com/in/yan-luo-96288783/\" target=\"_blank\">Yan Luo</a>\n"
   ]
  },
  {
   "cell_type": "markdown",
   "metadata": {},
   "source": [
    "### Other Contributors\n",
    "\n",
    "Jeff Grossman\n"
   ]
  },
  {
   "cell_type": "markdown",
   "metadata": {},
   "source": [
    "## Change Log\n",
    "\n",
    "| Date (YYYY-MM-DD) | Version | Changed By | Change Description           |\n",
    "| ----------------- | ------- | ---------- | ---------------------------- |\n",
    "| 2021-04-08        | 1.0     | Yan        | Initial version created      |\n",
    "|                   |         |            |                              |\n",
    "|                   |         |            |                              |\n",
    "\n",
    "## <h3 align=\"center\"> © IBM Corporation 2021. All rights reserved. <h3/>\n"
   ]
  }
 ],
 "metadata": {
  "kernelspec": {
   "display_name": "R",
   "language": "R",
   "name": "conda-env-r-r"
  },
  "language_info": {
   "codemirror_mode": "r",
   "file_extension": ".r",
   "mimetype": "text/x-r-source",
   "name": "R",
   "pygments_lexer": "r",
   "version": "3.5.1"
  }
 },
 "nbformat": 4,
 "nbformat_minor": 4
}
