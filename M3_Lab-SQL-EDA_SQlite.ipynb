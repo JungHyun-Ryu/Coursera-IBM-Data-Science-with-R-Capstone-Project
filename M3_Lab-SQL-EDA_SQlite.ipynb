{
 "cells": [
  {
   "cell_type": "markdown",
   "metadata": {},
   "source": [
    "<center>\n",
    "<img src=\"https://cf-courses-data.s3.us.cloud-object-storage.appdomain.cloud/IBMDeveloperSkillsNetwork-RP0321EN-SkillsNetwork/labs/module_1/images/SN_web_lightmode.png\" width=\"300\"> \n",
    "</center>\n",
    "\n",
    "# Assignment: Exploratory Data Analysis with SQL\n",
    "Estimated time needed: 60 minutes\n",
    "\n",
    "\n",
    "# Introduction\n",
    "Using this R notebook you will perform exploratory data analysis using SQL queries with the RSQLite R package. You will be graded on the accuracy of your results as well as the content of your SQL queries.\n"
   ]
  },
  {
   "cell_type": "markdown",
   "metadata": {},
   "source": [
    "### Establish your SQL Lite connection\n",
    "\n",
    "#### Install RSQLite package\n",
    "The RSQlite  package needs to be installed in your notebook. Let’s load the RSQLite package by clicking on the following cell and executing it (Shift+Enter):\n"
   ]
  },
  {
   "cell_type": "code",
   "execution_count": 48,
   "metadata": {
    "tags": []
   },
   "outputs": [],
   "source": [
    "install.packages(\"https://cran.r-project.org/src/contrib/Archive/RSQLite/RSQLite_0.10.0.tar.gz\", repos = NULL, type = \"source\", dependencies = TRUE) "
   ]
  },
  {
   "cell_type": "markdown",
   "metadata": {},
   "source": [
    "#### Restart Kernel\n",
    "\n",
    "After installing the RSQLite package, it is necessary to restart R Kernel. Click **Kernel** > **Restart Kernel** from the main menu. This will register the newly installed packages. Now proceed to load the RSQLite package. \n"
   ]
  },
  {
   "cell_type": "markdown",
   "metadata": {},
   "source": [
    "#### Load RSQLite\n",
    "Load the 'RSQLite' library, and use the 'dbConnect( )' function as you did in the previous labs to establish the connection to your SQLite database.  \n",
    "You are now ready to start running SQL queries using the RSQLite library as you did in Course 3.\n"
   ]
  },
  {
   "cell_type": "code",
   "execution_count": 49,
   "metadata": {
    "tags": []
   },
   "outputs": [],
   "source": [
    "library(\"DBI\")\n",
    "library(\"RSQLite\")"
   ]
  },
  {
   "cell_type": "code",
   "execution_count": 50,
   "metadata": {
    "tags": []
   },
   "outputs": [],
   "source": [
    "# provide your solution here to connect db\n",
    "\n",
    "# Establish connection to SQLite database\n",
    "con <- dbConnect(SQLite(), dbname = \"my_database.sqlite\")"
   ]
  },
  {
   "cell_type": "code",
   "execution_count": 51,
   "metadata": {
    "tags": []
   },
   "outputs": [
    {
     "name": "stderr",
     "output_type": "stream",
     "text": [
      "Parsed with column specification:\n",
      "cols(\n",
      "  CITY = col_character(),\n",
      "  CITY_ASCII = col_character(),\n",
      "  LAT = col_double(),\n",
      "  LNG = col_double(),\n",
      "  COUNTRY = col_character(),\n",
      "  ISO2 = col_character(),\n",
      "  ISO3 = col_character(),\n",
      "  ADMIN_NAME = col_character(),\n",
      "  CAPITAL = col_character(),\n",
      "  POPULATION = col_double(),\n",
      "  ID = col_double()\n",
      ")\n",
      "Parsed with column specification:\n",
      "cols(\n",
      "  COUNTRY = col_character(),\n",
      "  CITY = col_character(),\n",
      "  SYSTEM = col_character(),\n",
      "  BICYCLES = col_double()\n",
      ")\n",
      "Parsed with column specification:\n",
      "cols(\n",
      "  CITY = col_character(),\n",
      "  WEATHER = col_character(),\n",
      "  VISIBILITY = col_double(),\n",
      "  TEMP = col_double(),\n",
      "  TEMP_MIN = col_double(),\n",
      "  TEMP_MAX = col_double(),\n",
      "  PRESSURE = col_double(),\n",
      "  HUMIDITY = col_double(),\n",
      "  WIND_SPEED = col_double(),\n",
      "  WIND_DEG = col_double(),\n",
      "  SEASON = col_character(),\n",
      "  FORECAST_DATETIME = col_datetime(format = \"\")\n",
      ")\n",
      "Parsed with column specification:\n",
      "cols(\n",
      "  DATE = col_character(),\n",
      "  RENTED_BIKE_COUNT = col_double(),\n",
      "  HOUR = col_double(),\n",
      "  TEMPERATURE = col_double(),\n",
      "  HUMIDITY = col_double(),\n",
      "  WIND_SPEED = col_double(),\n",
      "  VISIBILITY = col_double(),\n",
      "  DEW_POINT_TEMPERATURE = col_double(),\n",
      "  SOLAR_RADIATION = col_double(),\n",
      "  RAINFALL = col_double(),\n",
      "  SNOWFALL = col_double(),\n",
      "  SEASONS = col_character(),\n",
      "  HOLIDAY = col_character(),\n",
      "  FUNCTIONING_DAY = col_character()\n",
      ")\n"
     ]
    },
    {
     "data": {
      "text/html": [
       "TRUE"
      ],
      "text/latex": [
       "TRUE"
      ],
      "text/markdown": [
       "TRUE"
      ],
      "text/plain": [
       "[1] TRUE"
      ]
     },
     "metadata": {},
     "output_type": "display_data"
    },
    {
     "data": {
      "text/html": [
       "TRUE"
      ],
      "text/latex": [
       "TRUE"
      ],
      "text/markdown": [
       "TRUE"
      ],
      "text/plain": [
       "[1] TRUE"
      ]
     },
     "metadata": {},
     "output_type": "display_data"
    },
    {
     "data": {
      "text/html": [
       "TRUE"
      ],
      "text/latex": [
       "TRUE"
      ],
      "text/markdown": [
       "TRUE"
      ],
      "text/plain": [
       "[1] TRUE"
      ]
     },
     "metadata": {},
     "output_type": "display_data"
    },
    {
     "data": {
      "text/html": [
       "TRUE"
      ],
      "text/latex": [
       "TRUE"
      ],
      "text/markdown": [
       "TRUE"
      ],
      "text/plain": [
       "[1] TRUE"
      ]
     },
     "metadata": {},
     "output_type": "display_data"
    }
   ],
   "source": [
    "library(readr)\n",
    "\n",
    "# Download and read CSV files\n",
    "world_cities <- read_csv(\"world_cities.csv\")\n",
    "bike_sharing_systems <- read_csv(\"bike_sharing_systems.csv\")\n",
    "cities_weather_forecast <- read_csv(\"cities_weather_forecast.csv\")\n",
    "seoul_bike_sharing <- read_csv(\"seoul_bike_sharing.csv\")\n",
    "\n",
    "# Write tables to SQLite database\n",
    "dbWriteTable(con, \"world_cities\", world_cities, overwrite = TRUE)\n",
    "dbWriteTable(con, \"bike_sharingg_systems\", bike_sharing_systems, overwrite = TRUE)\n",
    "dbWriteTable(con, \"cities_weather_forecast\", cities_weather_forecast, overwrite = TRUE)\n",
    "dbWriteTable(con, \"seoul_bike_sharing\", seoul_bike_sharing, overwrite = TRUE)"
   ]
  },
  {
   "cell_type": "markdown",
   "metadata": {},
   "source": [
    "Download the following csv files:\n",
    "\n",
    "*   [WORLD_CITIES](https://cf-courses-data.s3.us.cloud-object-storage.appdomain.cloud/IBMDeveloperSkillsNetwork-RP0321EN-SkillsNetwork/labs/datasets/world_cities.csv)\n",
    "\n",
    "*   [BIKE_SHARING_SYSTEMS](https://cf-courses-data.s3.us.cloud-object-storage.appdomain.cloud/IBMDeveloperSkillsNetwork-RP0321EN-SkillsNetwork/labs/datasets/bike_sharing_systems.csv)\n",
    "\n",
    "*   [CITIES_WEATHER_FORECAST](https://cf-courses-data.s3.us.cloud-object-storage.appdomain.cloud/IBMDeveloperSkillsNetwork-RP0321EN-SkillsNetwork/labs/datasets/cities_weather_forecast.csv)\n",
    "\n",
    "*   [SEOUL_BIKE_SHARING](https://cf-courses-data.s3.us.cloud-object-storage.appdomain.cloud/IBMDeveloperSkillsNetwork-RP0321EN-SkillsNetwork/labs/datasets/seoul_bike_sharing.csv)\n",
    "\n",
    "and load the csv's  into 4 tables as mentioned below\n",
    "* SEOUL_BIKE_SHARING\n",
    "\n",
    "* CITIES_WEATHER_FORECAST\n",
    "\n",
    "* BIKE_SHARING_SYSTEMS \n",
    "\n",
    "*  WORLD_CITIES\n",
    "\n",
    "> Hint : Use the read_csv() function and dbWriteTable() functions\n"
   ]
  },
  {
   "cell_type": "markdown",
   "metadata": {},
   "source": [
    "\n",
    "## Task 1 - Record Count\n",
    "#### Determine how many records are in the seoul_bike_sharing dataset.\n"
   ]
  },
  {
   "cell_type": "markdown",
   "metadata": {},
   "source": [
    "### Solution 1\n"
   ]
  },
  {
   "cell_type": "code",
   "execution_count": 52,
   "metadata": {},
   "outputs": [
    {
     "name": "stdout",
     "output_type": "stream",
     "text": [
      "tibble [8,465 × 14] (S3: spec_tbl_df/tbl_df/tbl/data.frame)\n",
      " $ DATE                 : chr [1:8465] \"01/12/2017\" \"01/12/2017\" \"01/12/2017\" \"01/12/2017\" ...\n",
      " $ RENTED_BIKE_COUNT    : num [1:8465] 254 204 173 107 78 100 181 460 930 490 ...\n",
      " $ HOUR                 : num [1:8465] 0 1 2 3 4 5 6 7 8 9 ...\n",
      " $ TEMPERATURE          : num [1:8465] -5.2 -5.5 -6 -6.2 -6 -6.4 -6.6 -7.4 -7.6 -6.5 ...\n",
      " $ HUMIDITY             : num [1:8465] 37 38 39 40 36 37 35 38 37 27 ...\n",
      " $ WIND_SPEED           : num [1:8465] 2.2 0.8 1 0.9 2.3 1.5 1.3 0.9 1.1 0.5 ...\n",
      " $ VISIBILITY           : num [1:8465] 2000 2000 2000 2000 2000 ...\n",
      " $ DEW_POINT_TEMPERATURE: num [1:8465] -17.6 -17.6 -17.7 -17.6 -18.6 -18.7 -19.5 -19.3 -19.8 -22.4 ...\n",
      " $ SOLAR_RADIATION      : num [1:8465] 0 0 0 0 0 0 0 0 0.01 0.23 ...\n",
      " $ RAINFALL             : num [1:8465] 0 0 0 0 0 0 0 0 0 0 ...\n",
      " $ SNOWFALL             : num [1:8465] 0 0 0 0 0 0 0 0 0 0 ...\n",
      " $ SEASONS              : chr [1:8465] \"Winter\" \"Winter\" \"Winter\" \"Winter\" ...\n",
      " $ HOLIDAY              : chr [1:8465] \"No Holiday\" \"No Holiday\" \"No Holiday\" \"No Holiday\" ...\n",
      " $ FUNCTIONING_DAY      : chr [1:8465] \"Yes\" \"Yes\" \"Yes\" \"Yes\" ...\n",
      " - attr(*, \"spec\")=\n",
      "  .. cols(\n",
      "  ..   DATE = col_character(),\n",
      "  ..   RENTED_BIKE_COUNT = col_double(),\n",
      "  ..   HOUR = col_double(),\n",
      "  ..   TEMPERATURE = col_double(),\n",
      "  ..   HUMIDITY = col_double(),\n",
      "  ..   WIND_SPEED = col_double(),\n",
      "  ..   VISIBILITY = col_double(),\n",
      "  ..   DEW_POINT_TEMPERATURE = col_double(),\n",
      "  ..   SOLAR_RADIATION = col_double(),\n",
      "  ..   RAINFALL = col_double(),\n",
      "  ..   SNOWFALL = col_double(),\n",
      "  ..   SEASONS = col_character(),\n",
      "  ..   HOLIDAY = col_character(),\n",
      "  ..   FUNCTIONING_DAY = col_character()\n",
      "  .. )\n"
     ]
    }
   ],
   "source": [
    "# provide your solution here (simple way)\n",
    "str(seoul_bike_sharing)"
   ]
  },
  {
   "cell_type": "code",
   "execution_count": 53,
   "metadata": {
    "tags": []
   },
   "outputs": [
    {
     "name": "stdout",
     "output_type": "stream",
     "text": [
      "tibble [160 × 12] (S3: spec_tbl_df/tbl_df/tbl/data.frame)\n",
      " $ CITY             : chr [1:160] \"Seoul\" \"Seoul\" \"Seoul\" \"Seoul\" ...\n",
      " $ WEATHER          : chr [1:160] \"Clear\" \"Clear\" \"Clouds\" \"Clouds\" ...\n",
      " $ VISIBILITY       : num [1:160] 10000 10000 10000 10000 10000 10000 10000 10000 10000 10000 ...\n",
      " $ TEMP             : num [1:160] 12.32 11.48 9.99 7.87 10.09 ...\n",
      " $ TEMP_MIN         : num [1:160] 10.91 9.81 8.82 7.87 10.09 ...\n",
      " $ TEMP_MAX         : num [1:160] 12.32 11.48 9.99 7.87 10.09 ...\n",
      " $ PRESSURE         : num [1:160] 1015 1016 1015 1014 1014 ...\n",
      " $ HUMIDITY         : num [1:160] 50 48 46 46 37 48 44 57 51 62 ...\n",
      " $ WIND_SPEED       : num [1:160] 2.18 1.25 0.94 0.83 1.96 3.24 5.65 5.63 4.91 4.49 ...\n",
      " $ WIND_DEG         : num [1:160] 248 142 130 31 309 267 275 267 280 284 ...\n",
      " $ SEASON           : chr [1:160] \"Spring\" \"Spring\" \"Spring\" \"Spring\" ...\n",
      " $ FORECAST_DATETIME: POSIXct[1:160], format: \"2021-04-16 12:00:00\" \"2021-04-16 15:00:00\" ...\n",
      " - attr(*, \"spec\")=\n",
      "  .. cols(\n",
      "  ..   CITY = col_character(),\n",
      "  ..   WEATHER = col_character(),\n",
      "  ..   VISIBILITY = col_double(),\n",
      "  ..   TEMP = col_double(),\n",
      "  ..   TEMP_MIN = col_double(),\n",
      "  ..   TEMP_MAX = col_double(),\n",
      "  ..   PRESSURE = col_double(),\n",
      "  ..   HUMIDITY = col_double(),\n",
      "  ..   WIND_SPEED = col_double(),\n",
      "  ..   WIND_DEG = col_double(),\n",
      "  ..   SEASON = col_character(),\n",
      "  ..   FORECAST_DATETIME = col_datetime(format = \"\")\n",
      "  .. )\n"
     ]
    }
   ],
   "source": [
    "str(cities_weather_forecast)"
   ]
  },
  {
   "cell_type": "code",
   "execution_count": 54,
   "metadata": {
    "tags": []
   },
   "outputs": [
    {
     "name": "stdout",
     "output_type": "stream",
     "text": [
      "tibble [480 × 4] (S3: spec_tbl_df/tbl_df/tbl/data.frame)\n",
      " $ COUNTRY : chr [1:480] \"Albania\" \"Argentina\" \"Argentina\" \"Argentina\" ...\n",
      " $ CITY    : chr [1:480] \"Tirana\" \"Mendoza\" \"San Lorenzo, Santa Fe\" \"Buenos Aires\" ...\n",
      " $ SYSTEM  : chr [1:480] NA NA \"Biciudad\" \"Serttel Brasil\" ...\n",
      " $ BICYCLES: num [1:480] 200 40 80 4000 480 676 2000 1250 1250 600 ...\n",
      " - attr(*, \"spec\")=\n",
      "  .. cols(\n",
      "  ..   COUNTRY = col_character(),\n",
      "  ..   CITY = col_character(),\n",
      "  ..   SYSTEM = col_character(),\n",
      "  ..   BICYCLES = col_double()\n",
      "  .. )\n"
     ]
    }
   ],
   "source": [
    "str(bike_sharing_systems)"
   ]
  },
  {
   "cell_type": "code",
   "execution_count": 55,
   "metadata": {
    "jupyter": {
     "source_hidden": true
    },
    "tags": []
   },
   "outputs": [
    {
     "name": "stdout",
     "output_type": "stream",
     "text": [
      "[1] \"Number of records in seoul_bike_sharing: 8465\"\n"
     ]
    },
    {
     "data": {
      "text/html": [
       "TRUE"
      ],
      "text/latex": [
       "TRUE"
      ],
      "text/markdown": [
       "TRUE"
      ],
      "text/plain": [
       "[1] TRUE"
      ]
     },
     "metadata": {},
     "output_type": "display_data"
    }
   ],
   "source": [
    "# Another way by using the database\n",
    "\n",
    "# Connect to the SQLite database\n",
    "con <- dbConnect(SQLite(), \"my_database.sqlite\")\n",
    "\n",
    "# Query to count the number of records\n",
    "query <- \"SELECT COUNT(*) AS record_count FROM seoul_bike_sharing\"\n",
    "\n",
    "# Execute the query\n",
    "result <- dbGetQuery(con, query)\n",
    "\n",
    "# Print the result\n",
    "print(paste(\"Number of records in seoul_bike_sharing:\", result$record_count))\n",
    "\n",
    "# Don't forget to close the connection\n",
    "dbDisconnect(con)"
   ]
  },
  {
   "cell_type": "markdown",
   "metadata": {},
   "source": [
    "## Task 2 - Operational Hours\n",
    "#### Determine how many hours had non-zero rented bike count.\n"
   ]
  },
  {
   "cell_type": "markdown",
   "metadata": {
    "tags": []
   },
   "source": [
    "### Solution 2\n"
   ]
  },
  {
   "cell_type": "code",
   "execution_count": 56,
   "metadata": {
    "jupyter": {
     "source_hidden": true
    },
    "tags": []
   },
   "outputs": [
    {
     "name": "stdout",
     "output_type": "stream",
     "text": [
      "[1] \"Number of hours with non-zero rented bike count: 8465\"\n"
     ]
    }
   ],
   "source": [
    "# Count hours with non-zero rented bike count\n",
    "non_zero_hours <- sum(seoul_bike_sharing$RENTED_BIKE_COUNT > 0)\n",
    "\n",
    "# Print the result\n",
    "print(paste(\"Number of hours with non-zero rented bike count:\", non_zero_hours))"
   ]
  },
  {
   "cell_type": "code",
   "execution_count": 57,
   "metadata": {
    "jupyter": {
     "source_hidden": true
    },
    "tags": []
   },
   "outputs": [
    {
     "name": "stdout",
     "output_type": "stream",
     "text": [
      "[1] \"Number of records in seoul_bike_sharing: 8465\"\n"
     ]
    },
    {
     "data": {
      "text/html": [
       "TRUE"
      ],
      "text/latex": [
       "TRUE"
      ],
      "text/markdown": [
       "TRUE"
      ],
      "text/plain": [
       "[1] TRUE"
      ]
     },
     "metadata": {},
     "output_type": "display_data"
    }
   ],
   "source": [
    "# Another way by using the database\n",
    "\n",
    "# Connect to the SQLite database\n",
    "con <- dbConnect(SQLite(), \"my_database.sqlite\")\n",
    "\n",
    "# Query to count the number of records\n",
    "query <- \"SELECT COUNT(*) AS record_count FROM seoul_bike_sharing WHERE RENTED_BIKE_COUNT > 0\"\n",
    "\n",
    "# Execute the query\n",
    "result <- dbGetQuery(con, query)\n",
    "\n",
    "# Print the result\n",
    "print(paste(\"Number of records in seoul_bike_sharing:\", result$record_count))\n",
    "\n",
    "# Don't forget to close the connection\n",
    "dbDisconnect(con)"
   ]
  },
  {
   "cell_type": "markdown",
   "metadata": {},
   "source": [
    "## Task 3 - Weather Outlook\n",
    "#### Query the the weather forecast for Seoul over the next 3 hours.\n",
    "Recall that the records in the CITIES_WEATHER_FORECAST dataset are 3 hours apart, so we just need the first record from the query.\n"
   ]
  },
  {
   "cell_type": "markdown",
   "metadata": {},
   "source": [
    "### Solution 3\n"
   ]
  },
  {
   "cell_type": "code",
   "execution_count": 58,
   "metadata": {
    "tags": []
   },
   "outputs": [
    {
     "name": "stdout",
     "output_type": "stream",
     "text": [
      "  row_names  CITY WEATHER VISIBILITY  TEMP TEMP_MIN TEMP_MAX PRESSURE HUMIDITY\n",
      "1         1 Seoul   Clear      10000 12.32    10.91    12.32     1015       50\n",
      "  WIND_SPEED WIND_DEG SEASON FORECAST_DATETIME\n",
      "1       2.18      248 Spring      1618574400.0\n"
     ]
    },
    {
     "data": {
      "text/html": [
       "TRUE"
      ],
      "text/latex": [
       "TRUE"
      ],
      "text/markdown": [
       "TRUE"
      ],
      "text/plain": [
       "[1] TRUE"
      ]
     },
     "metadata": {},
     "output_type": "display_data"
    }
   ],
   "source": [
    "# provide your solution here\n",
    "\n",
    "library(DBI)\n",
    "library(RSQLite)\n",
    "\n",
    "# Connect to the SQLite database\n",
    "con <- dbConnect(SQLite(), \"my_database.sqlite\")\n",
    "\n",
    "# Query to get the weather forecast for Seoul over the next 3 hours\n",
    "query <- \"\n",
    "SELECT *\n",
    "FROM cities_weather_forecast\n",
    "WHERE city = 'Seoul'\n",
    "ORDER BY forecast_datetime\n",
    "LIMIT 1\n",
    "\"\n",
    "\n",
    "# Execute the query\n",
    "seoul_forecast <- dbGetQuery(con, query)\n",
    "\n",
    "# Print the result\n",
    "print(seoul_forecast)\n",
    "\n",
    "# Don't forget to close the connection\n",
    "dbDisconnect(con)"
   ]
  },
  {
   "cell_type": "markdown",
   "metadata": {},
   "source": [
    "## Task 4 - Seasons\n",
    "#### Find which seasons are included in the seoul bike sharing dataset.\n"
   ]
  },
  {
   "cell_type": "markdown",
   "metadata": {},
   "source": [
    "### Solution 4\n"
   ]
  },
  {
   "cell_type": "code",
   "execution_count": 59,
   "metadata": {},
   "outputs": [
    {
     "name": "stdout",
     "output_type": "stream",
     "text": [
      "  SEASONS\n",
      "1  Autumn\n",
      "2  Spring\n",
      "3  Summer\n",
      "4  Winter\n"
     ]
    },
    {
     "data": {
      "text/html": [
       "TRUE"
      ],
      "text/latex": [
       "TRUE"
      ],
      "text/markdown": [
       "TRUE"
      ],
      "text/plain": [
       "[1] TRUE"
      ]
     },
     "metadata": {},
     "output_type": "display_data"
    }
   ],
   "source": [
    "# provide your solution here\n",
    "\n",
    "library(DBI)\n",
    "library(RSQLite)\n",
    "\n",
    "# Connect to the SQLite database\n",
    "con <- dbConnect(SQLite(), \"my_database.sqlite\")\n",
    "\n",
    "# Query to get unique seasons\n",
    "query <- \"SELECT DISTINCT SEASONS FROM seoul_bike_sharing ORDER BY SEASONS\"\n",
    "\n",
    "# Execute the query\n",
    "seasons <- dbGetQuery(con, query)\n",
    "\n",
    "# Print the results\n",
    "print(seasons)\n",
    "\n",
    "# Don't forget to close the connection\n",
    "dbDisconnect(con)\n"
   ]
  },
  {
   "cell_type": "markdown",
   "metadata": {},
   "source": [
    "## Task 5 - Date Range\n",
    "#### Find the first and last dates in the Seoul Bike Sharing dataset.\n"
   ]
  },
  {
   "cell_type": "markdown",
   "metadata": {},
   "source": [
    "### Solution 5\n"
   ]
  },
  {
   "cell_type": "code",
   "execution_count": 60,
   "metadata": {},
   "outputs": [
    {
     "name": "stdout",
     "output_type": "stream",
     "text": [
      "  first_date  last_date\n",
      "1 01/01/2018 31/12/2017\n"
     ]
    },
    {
     "data": {
      "text/html": [
       "TRUE"
      ],
      "text/latex": [
       "TRUE"
      ],
      "text/markdown": [
       "TRUE"
      ],
      "text/plain": [
       "[1] TRUE"
      ]
     },
     "metadata": {},
     "output_type": "display_data"
    }
   ],
   "source": [
    "# provide your solution here\n",
    "\n",
    "library(DBI)\n",
    "library(RSQLite)\n",
    "\n",
    "# Connect to the SQLite database\n",
    "con <- dbConnect(SQLite(), \"my_database.sqlite\")\n",
    "\n",
    "# Query to find the first and last dates\n",
    "query <- \"\n",
    "SELECT \n",
    "    MIN(DATE) AS first_date,\n",
    "    MAX(DATE) AS last_date\n",
    "FROM seoul_bike_sharing\n",
    "\"\n",
    "\n",
    "# Execute the query\n",
    "result <- dbGetQuery(con, query)\n",
    "\n",
    "# Print the results\n",
    "print(result)\n",
    "\n",
    "# Don't forget to close the connection\n",
    "dbDisconnect(con)"
   ]
  },
  {
   "cell_type": "markdown",
   "metadata": {},
   "source": [
    "## Task 6 - Subquery - 'all-time high'\n",
    "#### determine which date and hour had the most bike rentals.\n"
   ]
  },
  {
   "cell_type": "markdown",
   "metadata": {},
   "source": [
    "### Solution 6\n"
   ]
  },
  {
   "cell_type": "code",
   "execution_count": 61,
   "metadata": {},
   "outputs": [
    {
     "name": "stdout",
     "output_type": "stream",
     "text": [
      "        DATE HOUR max_rentals\n",
      "1 19/06/2018   18        3556\n"
     ]
    },
    {
     "data": {
      "text/html": [
       "TRUE"
      ],
      "text/latex": [
       "TRUE"
      ],
      "text/markdown": [
       "TRUE"
      ],
      "text/plain": [
       "[1] TRUE"
      ]
     },
     "metadata": {},
     "output_type": "display_data"
    }
   ],
   "source": [
    "library(DBI)\n",
    "library(RSQLite)\n",
    "\n",
    "# Connect to the SQLite database\n",
    "con <- dbConnect(SQLite(), \"my_database.sqlite\")\n",
    "\n",
    "# Query to find the date and hour with the most bike rentals\n",
    "query <- \"\n",
    "SELECT DATE, HOUR, MAX(RENTED_BIKE_COUNT) AS max_rentals\n",
    "FROM seoul_bike_sharing\n",
    "GROUP BY DATE, HOUR\n",
    "ORDER BY max_rentals DESC\n",
    "LIMIT 1\n",
    "\"\n",
    "\n",
    "# Execute the query\n",
    "result <- dbGetQuery(con, query)\n",
    "\n",
    "# Print the result\n",
    "print(result)\n",
    "\n",
    "# Close the connection\n",
    "dbDisconnect(con)\n"
   ]
  },
  {
   "cell_type": "markdown",
   "metadata": {},
   "source": [
    "## Task 7 - Hourly popularity and temperature by season\n",
    "#### Determine the average hourly temperature and the average number of bike rentals per hour over each season. List the top ten results by average bike count.\n"
   ]
  },
  {
   "cell_type": "markdown",
   "metadata": {},
   "source": [
    "### Solution 7\n"
   ]
  },
  {
   "cell_type": "code",
   "execution_count": 62,
   "metadata": {},
   "outputs": [
    {
     "name": "stdout",
     "output_type": "stream",
     "text": [
      "  SEASONS avg_temperature avg_bike_count\n",
      "1  Summer       26.587711      1034.0734\n",
      "2  Autumn       13.821580       924.1105\n",
      "3  Spring       13.021685       746.2542\n",
      "4  Winter       -2.540463       225.5412\n"
     ]
    },
    {
     "data": {
      "text/html": [
       "TRUE"
      ],
      "text/latex": [
       "TRUE"
      ],
      "text/markdown": [
       "TRUE"
      ],
      "text/plain": [
       "[1] TRUE"
      ]
     },
     "metadata": {},
     "output_type": "display_data"
    }
   ],
   "source": [
    "# provide your solution here\n",
    "\n",
    "library(DBI)\n",
    "library(RSQLite)\n",
    "\n",
    "# Connect to the SQLite database\n",
    "con <- dbConnect(SQLite(), \"my_database.sqlite\")\n",
    "\n",
    "# Query to calculate average hourly temperature and average bike rentals per hour by season\n",
    "query <- \"\n",
    "SELECT \n",
    "    SEASONS, \n",
    "    AVG(TEMPERATURE) AS avg_temperature, \n",
    "    AVG(RENTED_BIKE_COUNT) AS avg_bike_count\n",
    "FROM \n",
    "    seoul_bike_sharing\n",
    "GROUP BY \n",
    "    SEASONS\n",
    "ORDER BY \n",
    "    avg_bike_count DESC\n",
    "LIMIT 10\n",
    "\"\n",
    "\n",
    "# Execute the query\n",
    "result <- dbGetQuery(con, query)\n",
    "\n",
    "# Print the results\n",
    "print(result)\n",
    "\n",
    "# Close the connection\n",
    "dbDisconnect(con)\n"
   ]
  },
  {
   "cell_type": "markdown",
   "metadata": {},
   "source": [
    "## Task 8 - Rental Seasonality\n",
    "#### Find the average hourly bike count during each season. \n",
    "Also include the minimum, maximum, and standard deviation of the hourly bike count for each season. \n",
    "\n",
    "> Hint : Use the SQRT(AVG(col*col) - AVG(col)*AVG(col) ) function where col refers to your column name for finding the standard deviation\n"
   ]
  },
  {
   "cell_type": "markdown",
   "metadata": {},
   "source": [
    "### Solution 8\n"
   ]
  },
  {
   "cell_type": "code",
   "execution_count": 63,
   "metadata": {},
   "outputs": [
    {
     "name": "stdout",
     "output_type": "stream",
     "text": [
      "  SEASONS avg_bike_count min_bike_count max_bike_count std_dev_bike_count\n",
      "1  Summer      1034.0734              9           3556           690.0884\n",
      "2  Autumn       924.1105              2           3298           617.3885\n",
      "3  Spring       746.2542              2           3251           618.5247\n",
      "4  Winter       225.5412              3            937           150.3374\n"
     ]
    },
    {
     "data": {
      "text/html": [
       "TRUE"
      ],
      "text/latex": [
       "TRUE"
      ],
      "text/markdown": [
       "TRUE"
      ],
      "text/plain": [
       "[1] TRUE"
      ]
     },
     "metadata": {},
     "output_type": "display_data"
    }
   ],
   "source": [
    "library(DBI)\n",
    "library(RSQLite)\n",
    "\n",
    "# Connect to the SQLite database\n",
    "con <- dbConnect(SQLite(), \"my_database.sqlite\")\n",
    "\n",
    "# Query to calculate statistics by season\n",
    "query <- \"\n",
    "SELECT \n",
    "    SEASONS, \n",
    "    AVG(RENTED_BIKE_COUNT) AS avg_bike_count,\n",
    "    MIN(RENTED_BIKE_COUNT) AS min_bike_count,\n",
    "    MAX(RENTED_BIKE_COUNT) AS max_bike_count,\n",
    "    (AVG(RENTED_BIKE_COUNT * RENTED_BIKE_COUNT) - AVG(RENTED_BIKE_COUNT) * AVG(RENTED_BIKE_COUNT)) AS var_bike_count\n",
    "FROM \n",
    "    seoul_bike_sharing\n",
    "GROUP BY \n",
    "    SEASONS\n",
    "ORDER BY \n",
    "    avg_bike_count DESC\n",
    "\"\n",
    "\n",
    "## The instruction- Use the SQRT(AVG(col*col) - AVG(col)*AVG(col) ) function where col refers to your column name for finding the standard deviation\n",
    "## is NOT working\n",
    "\n",
    "# Execute the query and retrieve the results\n",
    "result <- dbGetQuery(con, query)\n",
    "\n",
    "# Calculate standard deviation in R\n",
    "result$std_dev_bike_count <- sqrt(result$var_bike_count)\n",
    "\n",
    "# Remove the variance column\n",
    "result$var_bike_count <- NULL\n",
    "\n",
    "# Print the results\n",
    "print(result)\n",
    "\n",
    "# Close the database connection\n",
    "dbDisconnect(con)"
   ]
  },
  {
   "cell_type": "markdown",
   "metadata": {},
   "source": [
    "Let's explore a bit and see what might be the most significant contributing factors in terms of the provided data.\n"
   ]
  },
  {
   "cell_type": "markdown",
   "metadata": {},
   "source": [
    "## Task 9 - Weather Seasonality\n",
    "#### Consider the weather over each season. On average, what were the TEMPERATURE, HUMIDITY, WIND_SPEED, VISIBILITY, DEW_POINT_TEMPERATURE, SOLAR_RADIATION, RAINFALL, and SNOWFALL per season?\n",
    "Include the average bike count as well , and rank the results by average bike count so you can see if it is correlated with the weather at all. \n"
   ]
  },
  {
   "cell_type": "markdown",
   "metadata": {},
   "source": [
    "### Solution 9\n"
   ]
  },
  {
   "cell_type": "code",
   "execution_count": 64,
   "metadata": {},
   "outputs": [
    {
     "name": "stdout",
     "output_type": "stream",
     "text": [
      "  SEASONS avg_temperature avg_humidity avg_wind_speed avg_visibility\n",
      "1  Summer       26.587711     64.98143       1.609420       1501.745\n",
      "2  Autumn       13.821580     59.04491       1.492101       1558.174\n",
      "3  Spring       13.021685     58.75833       1.857778       1240.912\n",
      "4  Winter       -2.540463     49.74491       1.922685       1445.987\n",
      "  avg_dew_point avg_solar_radiation avg_rainfall avg_snowfall avg_bike_count\n",
      "1     18.750136           0.7612545   0.25348732   0.00000000      1034.0734\n",
      "2      5.150594           0.5227827   0.11765617   0.06350026       924.1105\n",
      "3      4.091389           0.6803009   0.18694444   0.00000000       746.2542\n",
      "4    -12.416667           0.2981806   0.03282407   0.24750000       225.5412\n"
     ]
    },
    {
     "data": {
      "text/html": [
       "TRUE"
      ],
      "text/latex": [
       "TRUE"
      ],
      "text/markdown": [
       "TRUE"
      ],
      "text/plain": [
       "[1] TRUE"
      ]
     },
     "metadata": {},
     "output_type": "display_data"
    }
   ],
   "source": [
    "# provide your solution here\n",
    "\n",
    "library(DBI)\n",
    "library(RSQLite)\n",
    "\n",
    "# Connect to the SQLite database\n",
    "con <- dbConnect(SQLite(), \"my_database.sqlite\")\n",
    "\n",
    "# Query to calculate average weather conditions and bike rentals per season\n",
    "query <- \"\n",
    "SELECT \n",
    "    SEASONS, \n",
    "    AVG(TEMPERATURE) AS avg_temperature,\n",
    "    AVG(HUMIDITY) AS avg_humidity,\n",
    "    AVG(WIND_SPEED) AS avg_wind_speed,\n",
    "    AVG(VISIBILITY) AS avg_visibility,\n",
    "    AVG(DEW_POINT_TEMPERATURE) AS avg_dew_point,\n",
    "    AVG(SOLAR_RADIATION) AS avg_solar_radiation,\n",
    "    AVG(RAINFALL) AS avg_rainfall,\n",
    "    AVG(SNOWFALL) AS avg_snowfall,\n",
    "    AVG(RENTED_BIKE_COUNT) AS avg_bike_count\n",
    "FROM \n",
    "    seoul_bike_sharing\n",
    "GROUP BY \n",
    "    SEASONS\n",
    "ORDER BY \n",
    "    avg_bike_count DESC\n",
    "\"\n",
    "\n",
    "# Execute the query\n",
    "result <- dbGetQuery(con, query)\n",
    "\n",
    "# Print the results\n",
    "print(result)\n",
    "\n",
    "# Close the connection\n",
    "dbDisconnect(con)"
   ]
  },
  {
   "cell_type": "markdown",
   "metadata": {},
   "source": [
    "## Task 10 - Total Bike Count and City Info for Seoul\n",
    "#### Use an implicit join across the WORLD_CITIES and the BIKE_SHARING_SYSTEMS tables to determine the total number of bikes avaialble in Seoul, plus the following city information about Seoul: CITY, COUNTRY, LAT, LON, POPULATION, in a single view.\n",
    "Notice that in this case, the CITY column will work for the WORLD_CITIES table, but in general you would have to use the CITY_ASCII column.\n"
   ]
  },
  {
   "cell_type": "markdown",
   "metadata": {},
   "source": [
    "### Solution 10\n"
   ]
  },
  {
   "cell_type": "code",
   "execution_count": 70,
   "metadata": {},
   "outputs": [
    {
     "ename": "ERROR",
     "evalue": "Error in sqliteExecStatement(con, statement, bind.data): RS-DBI driver: (error in statement: no such table: bike_sharing_systems)\n",
     "execution_count": 70,
     "output_type": "error",
     "traceback": [
      "Error in sqliteExecStatement(con, statement, bind.data): RS-DBI driver: (error in statement: no such table: bike_sharing_systems)\nTraceback:\n",
      "1. dbGetQuery(con, query)",
      "2. dbGetQuery(con, query)",
      "3. sqliteQuickSQL(conn, statement, ...)",
      "4. sqliteExecStatement(con, statement, bind.data)"
     ]
    }
   ],
   "source": [
    "# provide your solution here\n",
    "\n",
    "library(DBI)\n",
    "library(RSQLite)\n",
    "\n",
    "# Connect to the SQLite database\n",
    "con <- dbConnect(SQLite(), \"my_database.sqlite\")\n",
    "\n",
    "# SQL query to perform an implicit join and retrieve the required information\n",
    "query <- \"\n",
    "SELECT \n",
    "    wc.CITY, \n",
    "    wc.COUNTRY, \n",
    "    wc.LAT, \n",
    "    wc.LON, \n",
    "    wc.POPULATION, \n",
    "    SUM(bss.BICYCLES) AS total_bikes\n",
    "FROM \n",
    "    world_cities wc, \n",
    "    bike_sharing_systems bss\n",
    "WHERE \n",
    "    wc.CITY = bss.CITY\n",
    "    AND wc.CITY = 'Seoul'\n",
    "GROUP BY \n",
    "    wc.CITY, wc.COUNTRY, wc.LAT, wc.LON, wc.POPULATION\n",
    "\"\n",
    "\n",
    "# Execute the query\n",
    "result <- dbGetQuery(con, query)\n",
    "\n",
    "# Print the result\n",
    "print(result)\n",
    "\n",
    "# Close the database connection\n",
    "dbDisconnect(con)"
   ]
  },
  {
   "cell_type": "markdown",
   "metadata": {},
   "source": [
    "## Task 11 - Find all city names and coordinates with comparable bike scale to Seoul's bike sharing system\n",
    "#### Find all cities with total bike counts between 15000 and 20000. Return the city and country names, plus the coordinates (LAT, LNG), population, and number of bicycles for each city.\n",
    "Later we will ask you to visualize these similar cities on leaflet, with some weather data.\n"
   ]
  },
  {
   "cell_type": "markdown",
   "metadata": {},
   "source": [
    "### Solution 11\n"
   ]
  },
  {
   "cell_type": "code",
   "execution_count": 69,
   "metadata": {},
   "outputs": [
    {
     "ename": "ERROR",
     "evalue": "Error in sqliteExecStatement(con, statement, bind.data): RS-DBI driver: (error in statement: no such table: bike_sharing_systems)\n",
     "execution_count": 69,
     "output_type": "error",
     "traceback": [
      "Error in sqliteExecStatement(con, statement, bind.data): RS-DBI driver: (error in statement: no such table: bike_sharing_systems)\nTraceback:\n",
      "1. dbGetQuery(con, query)",
      "2. dbGetQuery(con, query)",
      "3. sqliteQuickSQL(conn, statement, ...)",
      "4. sqliteExecStatement(con, statement, bind.data)"
     ]
    }
   ],
   "source": [
    "# provide your solution here\n",
    "\n",
    "library(DBI)\n",
    "library(RSQLite)\n",
    "\n",
    "# Connect to the SQLite database\n",
    "con <- dbConnect(SQLite(), \"my_database.sqlite\")\n",
    "\n",
    "# Query to find cities with bike counts between 15000 and 20000\n",
    "query <- \"\n",
    "SELECT \n",
    "    wc.CITY, \n",
    "    wc.COUNTRY, \n",
    "    wc.LAT, \n",
    "    wc.LON, \n",
    "    wc.POPULATION, \n",
    "    bss.NUMBER_OF_BIKES\n",
    "FROM \n",
    "    world_cities AS wc\n",
    "JOIN \n",
    "    bike_sharing_systems AS bss ON wc.CITY = bss.CITY\n",
    "WHERE \n",
    "    bss.NUMBER_OF_BIKES BETWEEN 15000 AND 20000\n",
    "ORDER BY \n",
    "    bss.NUMBER_OF_BIKES DESC\n",
    "\"\n",
    "\n",
    "# Execute the query\n",
    "result <- dbGetQuery(con, query)\n",
    "\n",
    "# Print the results\n",
    "print(result)\n",
    "\n",
    "# Close the database connection\n",
    "dbDisconnect(con)\n"
   ]
  },
  {
   "cell_type": "code",
   "execution_count": 68,
   "metadata": {},
   "outputs": [
    {
     "ename": "ERROR",
     "evalue": "Error in UseMethod(\"close\"): no applicable method for 'close' applied to an object of class \"c('SQLiteConnection', 'DBIConnection', 'SQLiteObject', 'DBIObject', 'dbObjectId')\"\n",
     "execution_count": 68,
     "output_type": "error",
     "traceback": [
      "Error in UseMethod(\"close\"): no applicable method for 'close' applied to an object of class \"c('SQLiteConnection', 'DBIConnection', 'SQLiteObject', 'DBIObject', 'dbObjectId')\"\nTraceback:\n",
      "1. close(con)"
     ]
    }
   ],
   "source": [
    "close(con)"
   ]
  },
  {
   "cell_type": "markdown",
   "metadata": {},
   "source": [
    "## Author(s)\n",
    "\n",
    "<h4> Jeff Grossman </h4>\n",
    "<h4> Lakshmi Holla </h4>\n",
    "\n",
    "\n",
    "## Other Contributor(s)\n",
    "\n",
    "<h4>  Malika Singla </h4>\n",
    "\n",
    "<!--## Change log\n",
    "\n",
    "| Date (YYYY-MM-DD) | Version | Changed By | Change Description                 |\n",
    "| ----------------- | ------- | ---------- | ---------------------------------- |\n",
    "| 2022-03-03        | 1.0     |Lakshmi Holla  | Created lab using sqlite3          |-->\n",
    "\n",
    "## <h3 align=\"center\"> © IBM Corporation 2022. All rights reserved. <h3/>\n"
   ]
  },
  {
   "cell_type": "code",
   "execution_count": null,
   "metadata": {},
   "outputs": [],
   "source": []
  }
 ],
 "metadata": {
  "kernelspec": {
   "display_name": "R",
   "language": "R",
   "name": "conda-env-r-r"
  },
  "language_info": {
   "codemirror_mode": "r",
   "file_extension": ".r",
   "mimetype": "text/x-r-source",
   "name": "R",
   "pygments_lexer": "r",
   "version": "3.5.1"
  },
  "prev_pub_hash": "aec4d69ac9a601945e548ceeb943a3da719b90cac1cddd3d200b7d1ab9ce6d13"
 },
 "nbformat": 4,
 "nbformat_minor": 4
}
