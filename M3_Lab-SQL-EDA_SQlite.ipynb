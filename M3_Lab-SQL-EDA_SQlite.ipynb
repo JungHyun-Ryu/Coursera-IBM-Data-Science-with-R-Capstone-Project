{
 "cells": [
  {
   "cell_type": "markdown",
   "metadata": {},
   "source": [
    "<center>\n",
    "<img src=\"https://cf-courses-data.s3.us.cloud-object-storage.appdomain.cloud/IBMDeveloperSkillsNetwork-RP0321EN-SkillsNetwork/labs/module_1/images/SN_web_lightmode.png\" width=\"300\"> \n",
    "</center>\n",
    "\n",
    "# Assignment: Exploratory Data Analysis with SQL\n",
    "Estimated time needed: 60 minutes\n",
    "\n",
    "\n",
    "# Introduction\n",
    "Using this R notebook you will perform exploratory data analysis using SQL queries with the RSQLite R package. You will be graded on the accuracy of your results as well as the content of your SQL queries.\n"
   ]
  },
  {
   "cell_type": "markdown",
   "metadata": {},
   "source": [
    "### Establish your SQL Lite connection\n",
    "\n",
    "#### Install RSQLite package\n",
    "The RSQlite  package needs to be installed in your notebook. Let’s load the RSQLite package by clicking on the following cell and executing it (Shift+Enter):\n"
   ]
  },
  {
   "cell_type": "code",
   "execution_count": 1,
   "metadata": {
    "tags": []
   },
   "outputs": [],
   "source": [
    "install.packages(\"https://cran.r-project.org/src/contrib/Archive/RSQLite/RSQLite_0.10.0.tar.gz\", repos = NULL, type = \"source\", dependencies = TRUE) "
   ]
  },
  {
   "cell_type": "markdown",
   "metadata": {},
   "source": [
    "#### Restart Kernel\n",
    "\n",
    "After installing the RSQLite package, it is necessary to restart R Kernel. Click **Kernel** > **Restart Kernel** from the main menu. This will register the newly installed packages. Now proceed to load the RSQLite package. \n"
   ]
  },
  {
   "cell_type": "markdown",
   "metadata": {},
   "source": [
    "#### Load RSQLite\n",
    "Load the 'RSQLite' library, and use the 'dbConnect( )' function as you did in the previous labs to establish the connection to your SQLite database.  \n",
    "You are now ready to start running SQL queries using the RSQLite library as you did in Course 3.\n"
   ]
  },
  {
   "cell_type": "code",
   "execution_count": 2,
   "metadata": {
    "tags": []
   },
   "outputs": [],
   "source": [
    "library(\"DBI\")\n",
    "library(\"RSQLite\")"
   ]
  },
  {
   "cell_type": "code",
   "execution_count": 3,
   "metadata": {
    "tags": []
   },
   "outputs": [],
   "source": [
    "# provide your solution here to connect db\n",
    "\n",
    "# Establish connection to SQLite database\n",
    "con <- dbConnect(SQLite(), dbname = \"my_database.sqlite\")"
   ]
  },
  {
   "cell_type": "code",
   "execution_count": 4,
   "metadata": {
    "tags": []
   },
   "outputs": [
    {
     "name": "stderr",
     "output_type": "stream",
     "text": [
      "Parsed with column specification:\n",
      "cols(\n",
      "  CITY = col_character(),\n",
      "  CITY_ASCII = col_character(),\n",
      "  LAT = col_double(),\n",
      "  LNG = col_double(),\n",
      "  COUNTRY = col_character(),\n",
      "  ISO2 = col_character(),\n",
      "  ISO3 = col_character(),\n",
      "  ADMIN_NAME = col_character(),\n",
      "  CAPITAL = col_character(),\n",
      "  POPULATION = col_double(),\n",
      "  ID = col_double()\n",
      ")\n",
      "Parsed with column specification:\n",
      "cols(\n",
      "  COUNTRY = col_character(),\n",
      "  CITY = col_character(),\n",
      "  SYSTEM = col_character(),\n",
      "  BICYCLES = col_double()\n",
      ")\n",
      "Parsed with column specification:\n",
      "cols(\n",
      "  CITY = col_character(),\n",
      "  WEATHER = col_character(),\n",
      "  VISIBILITY = col_double(),\n",
      "  TEMP = col_double(),\n",
      "  TEMP_MIN = col_double(),\n",
      "  TEMP_MAX = col_double(),\n",
      "  PRESSURE = col_double(),\n",
      "  HUMIDITY = col_double(),\n",
      "  WIND_SPEED = col_double(),\n",
      "  WIND_DEG = col_double(),\n",
      "  SEASON = col_character(),\n",
      "  FORECAST_DATETIME = col_datetime(format = \"\")\n",
      ")\n",
      "Parsed with column specification:\n",
      "cols(\n",
      "  DATE = col_character(),\n",
      "  RENTED_BIKE_COUNT = col_double(),\n",
      "  HOUR = col_double(),\n",
      "  TEMPERATURE = col_double(),\n",
      "  HUMIDITY = col_double(),\n",
      "  WIND_SPEED = col_double(),\n",
      "  VISIBILITY = col_double(),\n",
      "  DEW_POINT_TEMPERATURE = col_double(),\n",
      "  SOLAR_RADIATION = col_double(),\n",
      "  RAINFALL = col_double(),\n",
      "  SNOWFALL = col_double(),\n",
      "  SEASONS = col_character(),\n",
      "  HOLIDAY = col_character(),\n",
      "  FUNCTIONING_DAY = col_character()\n",
      ")\n"
     ]
    },
    {
     "data": {
      "text/html": [
       "TRUE"
      ],
      "text/latex": [
       "TRUE"
      ],
      "text/markdown": [
       "TRUE"
      ],
      "text/plain": [
       "[1] TRUE"
      ]
     },
     "metadata": {},
     "output_type": "display_data"
    },
    {
     "data": {
      "text/html": [
       "TRUE"
      ],
      "text/latex": [
       "TRUE"
      ],
      "text/markdown": [
       "TRUE"
      ],
      "text/plain": [
       "[1] TRUE"
      ]
     },
     "metadata": {},
     "output_type": "display_data"
    },
    {
     "data": {
      "text/html": [
       "TRUE"
      ],
      "text/latex": [
       "TRUE"
      ],
      "text/markdown": [
       "TRUE"
      ],
      "text/plain": [
       "[1] TRUE"
      ]
     },
     "metadata": {},
     "output_type": "display_data"
    },
    {
     "data": {
      "text/html": [
       "TRUE"
      ],
      "text/latex": [
       "TRUE"
      ],
      "text/markdown": [
       "TRUE"
      ],
      "text/plain": [
       "[1] TRUE"
      ]
     },
     "metadata": {},
     "output_type": "display_data"
    }
   ],
   "source": [
    "library(readr)\n",
    "\n",
    "# Download and read CSV files\n",
    "world_cities <- read_csv(\"world_cities.csv\")\n",
    "bike_sharing_systems <- read_csv(\"bike_sharing_systems.csv\")\n",
    "cities_weather_forecast <- read_csv(\"cities_weather_forecast.csv\")\n",
    "seoul_bike_sharing <- read_csv(\"seoul_bike_sharing.csv\")\n",
    "\n",
    "# Write tables to SQLite database\n",
    "dbWriteTable(con, \"world_cities\", world_cities, overwrite = TRUE)\n",
    "dbWriteTable(con, \"bike_sharingg_systems\", bike_sharing_systems, overwrite = TRUE)\n",
    "dbWriteTable(con, \"cities_weather_forecast\", cities_weather_forecast, overwrite = TRUE)\n",
    "dbWriteTable(con, \"seoul_bike_sharing\", seoul_bike_sharing, overwrite = TRUE)"
   ]
  },
  {
   "cell_type": "markdown",
   "metadata": {},
   "source": [
    "Download the following csv files:\n",
    "\n",
    "*   [WORLD_CITIES](https://cf-courses-data.s3.us.cloud-object-storage.appdomain.cloud/IBMDeveloperSkillsNetwork-RP0321EN-SkillsNetwork/labs/datasets/world_cities.csv)\n",
    "\n",
    "*   [BIKE_SHARING_SYSTEMS](https://cf-courses-data.s3.us.cloud-object-storage.appdomain.cloud/IBMDeveloperSkillsNetwork-RP0321EN-SkillsNetwork/labs/datasets/bike_sharing_systems.csv)\n",
    "\n",
    "*   [CITIES_WEATHER_FORECAST](https://cf-courses-data.s3.us.cloud-object-storage.appdomain.cloud/IBMDeveloperSkillsNetwork-RP0321EN-SkillsNetwork/labs/datasets/cities_weather_forecast.csv)\n",
    "\n",
    "*   [SEOUL_BIKE_SHARING](https://cf-courses-data.s3.us.cloud-object-storage.appdomain.cloud/IBMDeveloperSkillsNetwork-RP0321EN-SkillsNetwork/labs/datasets/seoul_bike_sharing.csv)\n",
    "\n",
    "and load the csv's  into 4 tables as mentioned below\n",
    "* SEOUL_BIKE_SHARING\n",
    "\n",
    "* CITIES_WEATHER_FORECAST\n",
    "\n",
    "* BIKE_SHARING_SYSTEMS \n",
    "\n",
    "*  WORLD_CITIES\n",
    "\n",
    "> Hint : Use the read_csv() function and dbWriteTable() functions\n"
   ]
  },
  {
   "cell_type": "markdown",
   "metadata": {},
   "source": [
    "\n",
    "## Task 1 - Record Count\n",
    "#### Determine how many records are in the seoul_bike_sharing dataset.\n"
   ]
  },
  {
   "cell_type": "markdown",
   "metadata": {},
   "source": [
    "### Solution 1\n"
   ]
  },
  {
   "cell_type": "code",
   "execution_count": 5,
   "metadata": {
    "tags": []
   },
   "outputs": [
    {
     "name": "stdout",
     "output_type": "stream",
     "text": [
      "tibble [8,465 × 14] (S3: spec_tbl_df/tbl_df/tbl/data.frame)\n",
      " $ DATE                 : chr [1:8465] \"01/12/2017\" \"01/12/2017\" \"01/12/2017\" \"01/12/2017\" ...\n",
      " $ RENTED_BIKE_COUNT    : num [1:8465] 254 204 173 107 78 100 181 460 930 490 ...\n",
      " $ HOUR                 : num [1:8465] 0 1 2 3 4 5 6 7 8 9 ...\n",
      " $ TEMPERATURE          : num [1:8465] -5.2 -5.5 -6 -6.2 -6 -6.4 -6.6 -7.4 -7.6 -6.5 ...\n",
      " $ HUMIDITY             : num [1:8465] 37 38 39 40 36 37 35 38 37 27 ...\n",
      " $ WIND_SPEED           : num [1:8465] 2.2 0.8 1 0.9 2.3 1.5 1.3 0.9 1.1 0.5 ...\n",
      " $ VISIBILITY           : num [1:8465] 2000 2000 2000 2000 2000 ...\n",
      " $ DEW_POINT_TEMPERATURE: num [1:8465] -17.6 -17.6 -17.7 -17.6 -18.6 -18.7 -19.5 -19.3 -19.8 -22.4 ...\n",
      " $ SOLAR_RADIATION      : num [1:8465] 0 0 0 0 0 0 0 0 0.01 0.23 ...\n",
      " $ RAINFALL             : num [1:8465] 0 0 0 0 0 0 0 0 0 0 ...\n",
      " $ SNOWFALL             : num [1:8465] 0 0 0 0 0 0 0 0 0 0 ...\n",
      " $ SEASONS              : chr [1:8465] \"Winter\" \"Winter\" \"Winter\" \"Winter\" ...\n",
      " $ HOLIDAY              : chr [1:8465] \"No Holiday\" \"No Holiday\" \"No Holiday\" \"No Holiday\" ...\n",
      " $ FUNCTIONING_DAY      : chr [1:8465] \"Yes\" \"Yes\" \"Yes\" \"Yes\" ...\n",
      " - attr(*, \"spec\")=\n",
      "  .. cols(\n",
      "  ..   DATE = col_character(),\n",
      "  ..   RENTED_BIKE_COUNT = col_double(),\n",
      "  ..   HOUR = col_double(),\n",
      "  ..   TEMPERATURE = col_double(),\n",
      "  ..   HUMIDITY = col_double(),\n",
      "  ..   WIND_SPEED = col_double(),\n",
      "  ..   VISIBILITY = col_double(),\n",
      "  ..   DEW_POINT_TEMPERATURE = col_double(),\n",
      "  ..   SOLAR_RADIATION = col_double(),\n",
      "  ..   RAINFALL = col_double(),\n",
      "  ..   SNOWFALL = col_double(),\n",
      "  ..   SEASONS = col_character(),\n",
      "  ..   HOLIDAY = col_character(),\n",
      "  ..   FUNCTIONING_DAY = col_character()\n",
      "  .. )\n"
     ]
    }
   ],
   "source": [
    "# provide your solution here (simple way)\n",
    "str(seoul_bike_sharing)"
   ]
  },
  {
   "cell_type": "code",
   "execution_count": 6,
   "metadata": {
    "tags": []
   },
   "outputs": [
    {
     "name": "stdout",
     "output_type": "stream",
     "text": [
      "tibble [160 × 12] (S3: spec_tbl_df/tbl_df/tbl/data.frame)\n",
      " $ CITY             : chr [1:160] \"Seoul\" \"Seoul\" \"Seoul\" \"Seoul\" ...\n",
      " $ WEATHER          : chr [1:160] \"Clear\" \"Clear\" \"Clouds\" \"Clouds\" ...\n",
      " $ VISIBILITY       : num [1:160] 10000 10000 10000 10000 10000 10000 10000 10000 10000 10000 ...\n",
      " $ TEMP             : num [1:160] 12.32 11.48 9.99 7.87 10.09 ...\n",
      " $ TEMP_MIN         : num [1:160] 10.91 9.81 8.82 7.87 10.09 ...\n",
      " $ TEMP_MAX         : num [1:160] 12.32 11.48 9.99 7.87 10.09 ...\n",
      " $ PRESSURE         : num [1:160] 1015 1016 1015 1014 1014 ...\n",
      " $ HUMIDITY         : num [1:160] 50 48 46 46 37 48 44 57 51 62 ...\n",
      " $ WIND_SPEED       : num [1:160] 2.18 1.25 0.94 0.83 1.96 3.24 5.65 5.63 4.91 4.49 ...\n",
      " $ WIND_DEG         : num [1:160] 248 142 130 31 309 267 275 267 280 284 ...\n",
      " $ SEASON           : chr [1:160] \"Spring\" \"Spring\" \"Spring\" \"Spring\" ...\n",
      " $ FORECAST_DATETIME: POSIXct[1:160], format: \"2021-04-16 12:00:00\" \"2021-04-16 15:00:00\" ...\n",
      " - attr(*, \"spec\")=\n",
      "  .. cols(\n",
      "  ..   CITY = col_character(),\n",
      "  ..   WEATHER = col_character(),\n",
      "  ..   VISIBILITY = col_double(),\n",
      "  ..   TEMP = col_double(),\n",
      "  ..   TEMP_MIN = col_double(),\n",
      "  ..   TEMP_MAX = col_double(),\n",
      "  ..   PRESSURE = col_double(),\n",
      "  ..   HUMIDITY = col_double(),\n",
      "  ..   WIND_SPEED = col_double(),\n",
      "  ..   WIND_DEG = col_double(),\n",
      "  ..   SEASON = col_character(),\n",
      "  ..   FORECAST_DATETIME = col_datetime(format = \"\")\n",
      "  .. )\n"
     ]
    }
   ],
   "source": [
    "str(cities_weather_forecast)"
   ]
  },
  {
   "cell_type": "code",
   "execution_count": 7,
   "metadata": {
    "tags": []
   },
   "outputs": [
    {
     "name": "stdout",
     "output_type": "stream",
     "text": [
      "tibble [480 × 4] (S3: spec_tbl_df/tbl_df/tbl/data.frame)\n",
      " $ COUNTRY : chr [1:480] \"Albania\" \"Argentina\" \"Argentina\" \"Argentina\" ...\n",
      " $ CITY    : chr [1:480] \"Tirana\" \"Mendoza\" \"San Lorenzo, Santa Fe\" \"Buenos Aires\" ...\n",
      " $ SYSTEM  : chr [1:480] NA NA \"Biciudad\" \"Serttel Brasil\" ...\n",
      " $ BICYCLES: num [1:480] 200 40 80 4000 480 676 2000 1250 1250 600 ...\n",
      " - attr(*, \"spec\")=\n",
      "  .. cols(\n",
      "  ..   COUNTRY = col_character(),\n",
      "  ..   CITY = col_character(),\n",
      "  ..   SYSTEM = col_character(),\n",
      "  ..   BICYCLES = col_double()\n",
      "  .. )\n"
     ]
    }
   ],
   "source": [
    "str(bike_sharing_systems)"
   ]
  },
  {
   "cell_type": "code",
   "execution_count": 8,
   "metadata": {
    "tags": []
   },
   "outputs": [
    {
     "name": "stdout",
     "output_type": "stream",
     "text": [
      "[1] \"Number of records in seoul_bike_sharing: 8465\"\n"
     ]
    },
    {
     "data": {
      "text/html": [
       "TRUE"
      ],
      "text/latex": [
       "TRUE"
      ],
      "text/markdown": [
       "TRUE"
      ],
      "text/plain": [
       "[1] TRUE"
      ]
     },
     "metadata": {},
     "output_type": "display_data"
    }
   ],
   "source": [
    "# Another way by using the database\n",
    "\n",
    "# Connect to the SQLite database\n",
    "con <- dbConnect(SQLite(), \"my_database.sqlite\")\n",
    "\n",
    "# Query to count the number of records\n",
    "query <- \"SELECT COUNT(*) AS record_count FROM seoul_bike_sharing\"\n",
    "\n",
    "# Execute the query\n",
    "result <- dbGetQuery(con, query)\n",
    "\n",
    "# Print the result\n",
    "print(paste(\"Number of records in seoul_bike_sharing:\", result$record_count))\n",
    "\n",
    "# Don't forget to close the connection\n",
    "dbDisconnect(con)"
   ]
  },
  {
   "cell_type": "markdown",
   "metadata": {},
   "source": [
    "## Task 2 - Operational Hours\n",
    "#### Determine how many hours had non-zero rented bike count.\n"
   ]
  },
  {
   "cell_type": "markdown",
   "metadata": {
    "tags": []
   },
   "source": [
    "### Solution 2\n"
   ]
  },
  {
   "cell_type": "code",
   "execution_count": 9,
   "metadata": {
    "tags": []
   },
   "outputs": [
    {
     "name": "stdout",
     "output_type": "stream",
     "text": [
      "[1] \"Number of hours with non-zero rented bike count: 8465\"\n"
     ]
    }
   ],
   "source": [
    "# Count hours with non-zero rented bike count\n",
    "non_zero_hours <- sum(seoul_bike_sharing$RENTED_BIKE_COUNT > 0)\n",
    "\n",
    "# Print the result\n",
    "print(paste(\"Number of hours with non-zero rented bike count:\", non_zero_hours))"
   ]
  },
  {
   "cell_type": "code",
   "execution_count": 10,
   "metadata": {
    "tags": []
   },
   "outputs": [
    {
     "name": "stdout",
     "output_type": "stream",
     "text": [
      "[1] \"Number of records in seoul_bike_sharing: 8465\"\n"
     ]
    },
    {
     "data": {
      "text/html": [
       "TRUE"
      ],
      "text/latex": [
       "TRUE"
      ],
      "text/markdown": [
       "TRUE"
      ],
      "text/plain": [
       "[1] TRUE"
      ]
     },
     "metadata": {},
     "output_type": "display_data"
    }
   ],
   "source": [
    "# Another way by using the database\n",
    "\n",
    "# Connect to the SQLite database\n",
    "con <- dbConnect(SQLite(), \"my_database.sqlite\")\n",
    "\n",
    "# Query to count the number of records\n",
    "query <- \"SELECT COUNT(*) AS record_count FROM seoul_bike_sharing WHERE RENTED_BIKE_COUNT > 0\"\n",
    "\n",
    "# Execute the query\n",
    "result <- dbGetQuery(con, query)\n",
    "\n",
    "# Print the result\n",
    "print(paste(\"Number of records in seoul_bike_sharing:\", result$record_count))\n",
    "\n",
    "# Don't forget to close the connection\n",
    "dbDisconnect(con)"
   ]
  },
  {
   "cell_type": "code",
   "execution_count": 18,
   "metadata": {
    "tags": []
   },
   "outputs": [
    {
     "name": "stdout",
     "output_type": "stream",
     "text": [
      "        DATE HOUR RENTED_BIKE_COUNT\n",
      "1 19/06/2018   18              3556\n"
     ]
    },
    {
     "data": {
      "text/html": [
       "TRUE"
      ],
      "text/latex": [
       "TRUE"
      ],
      "text/markdown": [
       "TRUE"
      ],
      "text/plain": [
       "[1] TRUE"
      ]
     },
     "metadata": {},
     "output_type": "display_data"
    }
   ],
   "source": [
    "## ADDITIONAL FOR PRESENTATION\n",
    "## Busiest bike rental times\n",
    "\n",
    "# Load necessary libraries\n",
    "library(DBI)\n",
    "library(RSQLite)\n",
    "\n",
    "# Connect to the SQLite database\n",
    "con <- dbConnect(SQLite(), \"my_database.sqlite\")\n",
    "\n",
    "# Query to find the date and hour with the maximum bike rentals\n",
    "query <- \"\n",
    "  SELECT \n",
    "    DATE, \n",
    "    HOUR, \n",
    "    RENTED_BIKE_COUNT\n",
    "  FROM seoul_bike_sharing\n",
    "  WHERE RENTED_BIKE_COUNT = (\n",
    "    SELECT MAX(RENTED_BIKE_COUNT) FROM seoul_bike_sharing\n",
    "  )\n",
    "\"\n",
    "\n",
    "# Execute the query\n",
    "result <- dbGetQuery(con, query)\n",
    "\n",
    "# Print the result\n",
    "print(result)\n",
    "\n",
    "# Close the connection\n",
    "dbDisconnect(con)\n"
   ]
  },
  {
   "cell_type": "code",
   "execution_count": 25,
   "metadata": {
    "tags": []
   },
   "outputs": [
    {
     "name": "stdout",
     "output_type": "stream",
     "text": [
      "   SEASONS HOUR avg_rentals avg_temperature\n",
      "1   Autumn    0   709.43750      12.3160000\n",
      "2   Autumn    1   552.50000      11.8987500\n",
      "3   Autumn    2   377.47500      11.4912500\n",
      "4   Autumn    3   256.55000      11.0987500\n",
      "5   Autumn    4   169.02500      10.8037500\n",
      "6   Autumn    5   163.41250      10.5075000\n",
      "7   Autumn    6   359.48750      10.2350000\n",
      "8   Autumn    7   788.87654      10.1567901\n",
      "9   Autumn    8  1345.03704      10.5567901\n",
      "10  Autumn    9   848.43210      12.0308642\n",
      "11  Autumn   10   715.27160      13.9182716\n",
      "12  Autumn   11   802.95062      15.5666667\n",
      "13  Autumn   12   934.64198      16.7395062\n",
      "14  Autumn   13  1002.66667      17.5580247\n",
      "15  Autumn   14  1058.82716      18.1518519\n",
      "16  Autumn   15  1156.70370      18.3432099\n",
      "17  Autumn   16  1293.20988      18.0812346\n",
      "18  Autumn   17  1562.87654      17.2777778\n",
      "19  Autumn   18  1983.33333      16.0318519\n",
      "20  Autumn   19  1515.56790      15.0634568\n",
      "21  Autumn   20  1321.70370      14.3246914\n",
      "22  Autumn   21  1253.81481      13.6901235\n",
      "23  Autumn   22  1130.20988      13.0901235\n",
      "24  Autumn   23   828.72840      12.5585185\n",
      "25  Spring    0   481.08889      10.9888889\n",
      "26  Spring    1   363.94444      10.6097778\n",
      "27  Spring    2   252.96667      10.2686667\n",
      "28  Spring    3   168.47778       9.9622222\n",
      "29  Spring    4   108.22222       9.6944444\n",
      "30  Spring    5   116.17778       9.4533333\n",
      "31  Spring    6   257.23333       9.2655556\n",
      "32  Spring    7   615.28889       9.3831111\n",
      "33  Spring    8  1036.37778      10.3086667\n",
      "34  Spring    9   670.38889      11.7444444\n",
      "35  Spring   10   570.88889      13.2742222\n",
      "36  Spring   11   681.46667      14.7233333\n",
      "37  Spring   12   836.37778      15.8922222\n",
      "38  Spring   13   886.08889      16.8000000\n",
      "39  Spring   14   925.66667      17.3600000\n",
      "40  Spring   15   990.97778      17.5111111\n",
      "41  Spring   16  1101.45556      17.3588889\n",
      "42  Spring   17  1307.97778      16.8788889\n",
      "43  Spring   18  1689.31111      15.9722222\n",
      "44  Spring   19  1247.71111      14.6766667\n",
      "45  Spring   20  1060.51111      13.5753333\n",
      "46  Spring   21  1021.12222      12.8377778\n",
      "47  Spring   22   897.42222      12.2531111\n",
      "48  Spring   23   622.95556      11.7275556\n",
      "49  Summer    0   899.06522      24.7521739\n",
      "50  Summer    1   698.77174      24.3858696\n",
      "51  Summer    2   505.75000      24.0978261\n",
      "52  Summer    3   342.67391      23.8010870\n",
      "53  Summer    4   223.81522      23.5313882\n",
      "54  Summer    5   245.93478      23.2630435\n",
      "55  Summer    6   485.83696      23.1259534\n",
      "56  Summer    7   902.78261      23.4413043\n",
      "57  Summer    8  1418.59783      24.5358696\n",
      "58  Summer    9   911.00000      25.8379099\n",
      "59  Summer   10   723.50000      27.0716055\n",
      "60  Summer   11   786.85870      28.1228261\n",
      "61  Summer   12   875.96739      29.1065217\n",
      "62  Summer   13   890.19565      29.7944316\n",
      "63  Summer   14   894.67391      30.2455186\n",
      "64  Summer   15  1009.71739      30.4902174\n",
      "65  Summer   16  1174.17391      30.4880435\n",
      "66  Summer   17  1526.29348      30.0769068\n",
      "67  Summer   18  2135.14130      29.3879099\n",
      "68  Summer   19  1889.25000      28.2737795\n",
      "69  Summer   20  1801.92391      27.0663043\n",
      "70  Summer   21  1754.06522      26.2782609\n",
      "71  Summer   22  1567.86957      25.6989130\n",
      "72  Summer   23  1153.90217      25.2313882\n",
      "73  Winter    0   165.17778      -3.6100000\n",
      "74  Winter    1   159.05556      -3.8911111\n",
      "75  Winter    2   117.78889      -4.1744444\n",
      "76  Winter    3    77.81111      -4.3633333\n",
      "77  Winter    4    50.47778      -4.5644444\n",
      "78  Winter    5    51.22222      -4.8033333\n",
      "79  Winter    6    92.82222      -5.0311111\n",
      "80  Winter    7   209.56667      -5.2488889\n",
      "81  Winter    8   422.20000      -5.3266667\n",
      "82  Winter    9   254.60000      -4.8022222\n",
      "83  Winter   10   186.40000      -3.3144444\n",
      "84  Winter   11   228.32222      -1.8433333\n",
      "85  Winter   12   263.63333      -0.5666667\n",
      "86  Winter   13   275.25556       0.2166667\n",
      "87  Winter   14   284.28889       0.8711111\n",
      "88  Winter   15   298.64444       1.1666667\n",
      "89  Winter   16   308.57778       0.9822222\n",
      "90  Winter   17   342.51111       0.1400000\n",
      "91  Winter   18   438.30000      -0.8355556\n",
      "92  Winter   19   304.03333      -1.5166667\n",
      "93  Winter   20   243.23333      -2.0222222\n",
      "94  Winter   21   240.50000      -2.4366667\n",
      "95  Winter   22   225.13333      -2.8233333\n",
      "96  Winter   23   173.43333      -3.1733333\n"
     ]
    }
   ],
   "source": [
    "## ADDITIONAL FOR PRESENTATION\n",
    "## Hourly popularity and temperature by seasons\n",
    "\n",
    "# Connect to the SQLite database\n",
    "con <- dbConnect(SQLite(), \"my_database.sqlite\")\n",
    "\n",
    "# Query to calculate hourly popularity and temperature by season\n",
    "query <- \"\n",
    "  SELECT \n",
    "    SEASONS,\n",
    "    HOUR,\n",
    "    AVG(RENTED_BIKE_COUNT) AS avg_rentals,\n",
    "    AVG(TEMPERATURE) AS avg_temperature\n",
    "  FROM seoul_bike_sharing\n",
    "  GROUP BY SEASONS, HOUR\n",
    "  ORDER BY SEASONS, HOUR\n",
    "\"\n",
    "\n",
    "# Execute the query\n",
    "result <- dbGetQuery(con, query)\n",
    "\n",
    "# Print the result\n",
    "print(result)"
   ]
  },
  {
   "cell_type": "markdown",
   "metadata": {},
   "source": [
    "## Task 3 - Weather Outlook\n",
    "#### Query the the weather forecast for Seoul over the next 3 hours.\n",
    "Recall that the records in the CITIES_WEATHER_FORECAST dataset are 3 hours apart, so we just need the first record from the query.\n"
   ]
  },
  {
   "cell_type": "markdown",
   "metadata": {},
   "source": [
    "### Solution 3\n"
   ]
  },
  {
   "cell_type": "code",
   "execution_count": 11,
   "metadata": {
    "tags": []
   },
   "outputs": [
    {
     "name": "stdout",
     "output_type": "stream",
     "text": [
      "  row_names  CITY WEATHER VISIBILITY  TEMP TEMP_MIN TEMP_MAX PRESSURE HUMIDITY\n",
      "1         1 Seoul   Clear      10000 12.32    10.91    12.32     1015       50\n",
      "  WIND_SPEED WIND_DEG SEASON FORECAST_DATETIME\n",
      "1       2.18      248 Spring      1618574400.0\n"
     ]
    },
    {
     "data": {
      "text/html": [
       "TRUE"
      ],
      "text/latex": [
       "TRUE"
      ],
      "text/markdown": [
       "TRUE"
      ],
      "text/plain": [
       "[1] TRUE"
      ]
     },
     "metadata": {},
     "output_type": "display_data"
    }
   ],
   "source": [
    "# provide your solution here\n",
    "\n",
    "library(DBI)\n",
    "library(RSQLite)\n",
    "\n",
    "# Connect to the SQLite database\n",
    "con <- dbConnect(SQLite(), \"my_database.sqlite\")\n",
    "\n",
    "# Query to get the weather forecast for Seoul over the next 3 hours\n",
    "query <- \"\n",
    "SELECT *\n",
    "FROM cities_weather_forecast\n",
    "WHERE city = 'Seoul'\n",
    "ORDER BY forecast_datetime\n",
    "LIMIT 1\n",
    "\"\n",
    "\n",
    "# Execute the query\n",
    "seoul_forecast <- dbGetQuery(con, query)\n",
    "\n",
    "# Print the result\n",
    "print(seoul_forecast)\n",
    "\n",
    "# Don't forget to close the connection\n",
    "dbDisconnect(con)"
   ]
  },
  {
   "cell_type": "markdown",
   "metadata": {},
   "source": [
    "## Task 4 - Seasons\n",
    "#### Find which seasons are included in the seoul bike sharing dataset.\n"
   ]
  },
  {
   "cell_type": "markdown",
   "metadata": {},
   "source": [
    "### Solution 4\n"
   ]
  },
  {
   "cell_type": "code",
   "execution_count": 12,
   "metadata": {
    "tags": []
   },
   "outputs": [
    {
     "name": "stdout",
     "output_type": "stream",
     "text": [
      "  SEASONS\n",
      "1  Autumn\n",
      "2  Spring\n",
      "3  Summer\n",
      "4  Winter\n"
     ]
    },
    {
     "data": {
      "text/html": [
       "TRUE"
      ],
      "text/latex": [
       "TRUE"
      ],
      "text/markdown": [
       "TRUE"
      ],
      "text/plain": [
       "[1] TRUE"
      ]
     },
     "metadata": {},
     "output_type": "display_data"
    }
   ],
   "source": [
    "# provide your solution here\n",
    "\n",
    "library(DBI)\n",
    "library(RSQLite)\n",
    "\n",
    "# Connect to the SQLite database\n",
    "con <- dbConnect(SQLite(), \"my_database.sqlite\")\n",
    "\n",
    "# Query to get unique seasons\n",
    "query <- \"SELECT DISTINCT SEASONS FROM seoul_bike_sharing ORDER BY SEASONS\"\n",
    "\n",
    "# Execute the query\n",
    "seasons <- dbGetQuery(con, query)\n",
    "\n",
    "# Print the results\n",
    "print(seasons)\n",
    "\n",
    "# Don't forget to close the connection\n",
    "dbDisconnect(con)\n"
   ]
  },
  {
   "cell_type": "code",
   "execution_count": 27,
   "metadata": {
    "tags": []
   },
   "outputs": [
    {
     "name": "stdout",
     "output_type": "stream",
     "text": [
      "  SEASONS avg_rentals total_rentals rental_days\n",
      "1  Autumn    924.1105       1790002        1937\n",
      "2  Spring    746.2542       1611909        2160\n",
      "3  Summer   1034.0734       2283234        2208\n",
      "4  Winter    225.5412        487169        2160\n"
     ]
    }
   ],
   "source": [
    "## ADDITIONAL FOR PRESENTATION - Rental Seasonality\n",
    "\n",
    "# Query to calculate average bike rentals by season\n",
    "query <- \"\n",
    "  SELECT \n",
    "    SEASONS,\n",
    "    AVG(RENTED_BIKE_COUNT) AS avg_rentals,\n",
    "    SUM(RENTED_BIKE_COUNT) AS total_rentals,\n",
    "    COUNT(*) AS rental_days\n",
    "  FROM seoul_bike_sharing\n",
    "  GROUP BY SEASONS\n",
    "  ORDER BY SEASONS\n",
    "\"\n",
    "\n",
    "# Execute the query\n",
    "result <- dbGetQuery(con, query)\n",
    "\n",
    "# Print the result\n",
    "print(result)"
   ]
  },
  {
   "cell_type": "code",
   "execution_count": 28,
   "metadata": {
    "tags": []
   },
   "outputs": [
    {
     "name": "stdout",
     "output_type": "stream",
     "text": [
      "  SEASONS avg_temperature avg_humidity avg_windspeed\n",
      "1  Autumn       13.821580     59.04491      1.492101\n",
      "2  Spring       13.021685     58.75833      1.857778\n",
      "3  Summer       26.587711     64.98143      1.609420\n",
      "4  Winter       -2.540463     49.74491      1.922685\n"
     ]
    }
   ],
   "source": [
    "## ADDITIONAL FOR PRESENTATION - Weather Seasonality\n",
    "\n",
    "# Query to calculate average weather conditions by season\n",
    "query <- \"\n",
    "  SELECT \n",
    "    SEASONS,\n",
    "    AVG(TEMPERATURE) AS avg_temperature,\n",
    "    AVG(HUMIDITY) AS avg_humidity,\n",
    "    AVG(WIND_SPEED) AS avg_windspeed\n",
    "  FROM seoul_bike_sharing\n",
    "  GROUP BY SEASONS\n",
    "  ORDER BY SEASONS\n",
    "\"\n",
    "\n",
    "# Execute the query\n",
    "result <- dbGetQuery(con, query)\n",
    "\n",
    "# Print the result\n",
    "print(result)\n"
   ]
  },
  {
   "cell_type": "markdown",
   "metadata": {},
   "source": [
    "## Task 5 - Date Range\n",
    "#### Find the first and last dates in the Seoul Bike Sharing dataset.\n"
   ]
  },
  {
   "cell_type": "markdown",
   "metadata": {},
   "source": [
    "### Solution 5\n"
   ]
  },
  {
   "cell_type": "code",
   "execution_count": 13,
   "metadata": {
    "tags": []
   },
   "outputs": [
    {
     "name": "stdout",
     "output_type": "stream",
     "text": [
      "  first_date  last_date\n",
      "1 01/01/2018 31/12/2017\n"
     ]
    },
    {
     "data": {
      "text/html": [
       "TRUE"
      ],
      "text/latex": [
       "TRUE"
      ],
      "text/markdown": [
       "TRUE"
      ],
      "text/plain": [
       "[1] TRUE"
      ]
     },
     "metadata": {},
     "output_type": "display_data"
    }
   ],
   "source": [
    "# provide your solution here\n",
    "\n",
    "library(DBI)\n",
    "library(RSQLite)\n",
    "\n",
    "# Connect to the SQLite database\n",
    "con <- dbConnect(SQLite(), \"my_database.sqlite\")\n",
    "\n",
    "# Query to find the first and last dates\n",
    "query <- \"\n",
    "SELECT \n",
    "    MIN(DATE) AS first_date,\n",
    "    MAX(DATE) AS last_date\n",
    "FROM seoul_bike_sharing\n",
    "\"\n",
    "\n",
    "# Execute the query\n",
    "result <- dbGetQuery(con, query)\n",
    "\n",
    "# Print the results\n",
    "print(result)\n",
    "\n",
    "# Don't forget to close the connection\n",
    "dbDisconnect(con)"
   ]
  },
  {
   "cell_type": "markdown",
   "metadata": {},
   "source": [
    "## Task 6 - Subquery - 'all-time high'\n",
    "#### determine which date and hour had the most bike rentals.\n"
   ]
  },
  {
   "cell_type": "markdown",
   "metadata": {},
   "source": [
    "### Solution 6\n"
   ]
  },
  {
   "cell_type": "code",
   "execution_count": 14,
   "metadata": {
    "tags": []
   },
   "outputs": [
    {
     "name": "stdout",
     "output_type": "stream",
     "text": [
      "        DATE HOUR max_rentals\n",
      "1 19/06/2018   18        3556\n"
     ]
    },
    {
     "data": {
      "text/html": [
       "TRUE"
      ],
      "text/latex": [
       "TRUE"
      ],
      "text/markdown": [
       "TRUE"
      ],
      "text/plain": [
       "[1] TRUE"
      ]
     },
     "metadata": {},
     "output_type": "display_data"
    }
   ],
   "source": [
    "library(DBI)\n",
    "library(RSQLite)\n",
    "\n",
    "# Connect to the SQLite database\n",
    "con <- dbConnect(SQLite(), \"my_database.sqlite\")\n",
    "\n",
    "# Query to find the date and hour with the most bike rentals\n",
    "query <- \"\n",
    "SELECT DATE, HOUR, MAX(RENTED_BIKE_COUNT) AS max_rentals\n",
    "FROM seoul_bike_sharing\n",
    "GROUP BY DATE, HOUR\n",
    "ORDER BY max_rentals DESC\n",
    "LIMIT 1\n",
    "\"\n",
    "\n",
    "# Execute the query\n",
    "result <- dbGetQuery(con, query)\n",
    "\n",
    "# Print the result\n",
    "print(result)\n",
    "\n",
    "# Close the connection\n",
    "dbDisconnect(con)\n"
   ]
  },
  {
   "cell_type": "markdown",
   "metadata": {},
   "source": [
    "## Task 7 - Hourly popularity and temperature by season\n",
    "#### Determine the average hourly temperature and the average number of bike rentals per hour over each season. List the top ten results by average bike count.\n"
   ]
  },
  {
   "cell_type": "markdown",
   "metadata": {},
   "source": [
    "### Solution 7\n"
   ]
  },
  {
   "cell_type": "code",
   "execution_count": 15,
   "metadata": {},
   "outputs": [
    {
     "name": "stdout",
     "output_type": "stream",
     "text": [
      "  SEASONS avg_temperature avg_bike_count\n",
      "1  Summer       26.587711      1034.0734\n",
      "2  Autumn       13.821580       924.1105\n",
      "3  Spring       13.021685       746.2542\n",
      "4  Winter       -2.540463       225.5412\n"
     ]
    },
    {
     "data": {
      "text/html": [
       "TRUE"
      ],
      "text/latex": [
       "TRUE"
      ],
      "text/markdown": [
       "TRUE"
      ],
      "text/plain": [
       "[1] TRUE"
      ]
     },
     "metadata": {},
     "output_type": "display_data"
    }
   ],
   "source": [
    "# provide your solution here\n",
    "\n",
    "library(DBI)\n",
    "library(RSQLite)\n",
    "\n",
    "# Connect to the SQLite database\n",
    "con <- dbConnect(SQLite(), \"my_database.sqlite\")\n",
    "\n",
    "# Query to calculate average hourly temperature and average bike rentals per hour by season\n",
    "query <- \"\n",
    "SELECT \n",
    "    SEASONS, \n",
    "    AVG(TEMPERATURE) AS avg_temperature, \n",
    "    AVG(RENTED_BIKE_COUNT) AS avg_bike_count\n",
    "FROM \n",
    "    seoul_bike_sharing\n",
    "GROUP BY \n",
    "    SEASONS\n",
    "ORDER BY \n",
    "    avg_bike_count DESC\n",
    "LIMIT 10\n",
    "\"\n",
    "\n",
    "# Execute the query\n",
    "result <- dbGetQuery(con, query)\n",
    "\n",
    "# Print the results\n",
    "print(result)\n",
    "\n",
    "# Close the connection\n",
    "dbDisconnect(con)\n"
   ]
  },
  {
   "cell_type": "markdown",
   "metadata": {},
   "source": [
    "## Task 8 - Rental Seasonality\n",
    "#### Find the average hourly bike count during each season. \n",
    "Also include the minimum, maximum, and standard deviation of the hourly bike count for each season. \n",
    "\n",
    "> Hint : Use the SQRT(AVG(col*col) - AVG(col)*AVG(col) ) function where col refers to your column name for finding the standard deviation\n"
   ]
  },
  {
   "cell_type": "markdown",
   "metadata": {},
   "source": [
    "### Solution 8\n"
   ]
  },
  {
   "cell_type": "code",
   "execution_count": 16,
   "metadata": {},
   "outputs": [
    {
     "name": "stdout",
     "output_type": "stream",
     "text": [
      "  SEASONS avg_bike_count min_bike_count max_bike_count std_dev_bike_count\n",
      "1  Summer      1034.0734              9           3556           690.0884\n",
      "2  Autumn       924.1105              2           3298           617.3885\n",
      "3  Spring       746.2542              2           3251           618.5247\n",
      "4  Winter       225.5412              3            937           150.3374\n"
     ]
    },
    {
     "data": {
      "text/html": [
       "TRUE"
      ],
      "text/latex": [
       "TRUE"
      ],
      "text/markdown": [
       "TRUE"
      ],
      "text/plain": [
       "[1] TRUE"
      ]
     },
     "metadata": {},
     "output_type": "display_data"
    }
   ],
   "source": [
    "library(DBI)\n",
    "library(RSQLite)\n",
    "\n",
    "# Connect to the SQLite database\n",
    "con <- dbConnect(SQLite(), \"my_database.sqlite\")\n",
    "\n",
    "# Query to calculate statistics by season\n",
    "query <- \"\n",
    "SELECT \n",
    "    SEASONS, \n",
    "    AVG(RENTED_BIKE_COUNT) AS avg_bike_count,\n",
    "    MIN(RENTED_BIKE_COUNT) AS min_bike_count,\n",
    "    MAX(RENTED_BIKE_COUNT) AS max_bike_count,\n",
    "    (AVG(RENTED_BIKE_COUNT * RENTED_BIKE_COUNT) - AVG(RENTED_BIKE_COUNT) * AVG(RENTED_BIKE_COUNT)) AS var_bike_count\n",
    "FROM \n",
    "    seoul_bike_sharing\n",
    "GROUP BY \n",
    "    SEASONS\n",
    "ORDER BY \n",
    "    avg_bike_count DESC\n",
    "\"\n",
    "\n",
    "## The instruction- Use the SQRT(AVG(col*col) - AVG(col)*AVG(col) ) function where col refers to your column name for finding the standard deviation\n",
    "## is NOT working\n",
    "\n",
    "# Execute the query and retrieve the results\n",
    "result <- dbGetQuery(con, query)\n",
    "\n",
    "# Calculate standard deviation in R\n",
    "result$std_dev_bike_count <- sqrt(result$var_bike_count)\n",
    "\n",
    "# Remove the variance column\n",
    "result$var_bike_count <- NULL\n",
    "\n",
    "# Print the results\n",
    "print(result)\n",
    "\n",
    "# Close the database connection\n",
    "dbDisconnect(con)"
   ]
  },
  {
   "cell_type": "markdown",
   "metadata": {},
   "source": [
    "Let's explore a bit and see what might be the most significant contributing factors in terms of the provided data.\n"
   ]
  },
  {
   "cell_type": "markdown",
   "metadata": {},
   "source": [
    "## Task 9 - Weather Seasonality\n",
    "#### Consider the weather over each season. On average, what were the TEMPERATURE, HUMIDITY, WIND_SPEED, VISIBILITY, DEW_POINT_TEMPERATURE, SOLAR_RADIATION, RAINFALL, and SNOWFALL per season?\n",
    "Include the average bike count as well , and rank the results by average bike count so you can see if it is correlated with the weather at all. \n"
   ]
  },
  {
   "cell_type": "markdown",
   "metadata": {},
   "source": [
    "### Solution 9\n"
   ]
  },
  {
   "cell_type": "code",
   "execution_count": 17,
   "metadata": {},
   "outputs": [
    {
     "name": "stdout",
     "output_type": "stream",
     "text": [
      "  SEASONS avg_temperature avg_humidity avg_wind_speed avg_visibility\n",
      "1  Summer       26.587711     64.98143       1.609420       1501.745\n",
      "2  Autumn       13.821580     59.04491       1.492101       1558.174\n",
      "3  Spring       13.021685     58.75833       1.857778       1240.912\n",
      "4  Winter       -2.540463     49.74491       1.922685       1445.987\n",
      "  avg_dew_point avg_solar_radiation avg_rainfall avg_snowfall avg_bike_count\n",
      "1     18.750136           0.7612545   0.25348732   0.00000000      1034.0734\n",
      "2      5.150594           0.5227827   0.11765617   0.06350026       924.1105\n",
      "3      4.091389           0.6803009   0.18694444   0.00000000       746.2542\n",
      "4    -12.416667           0.2981806   0.03282407   0.24750000       225.5412\n"
     ]
    },
    {
     "data": {
      "text/html": [
       "TRUE"
      ],
      "text/latex": [
       "TRUE"
      ],
      "text/markdown": [
       "TRUE"
      ],
      "text/plain": [
       "[1] TRUE"
      ]
     },
     "metadata": {},
     "output_type": "display_data"
    }
   ],
   "source": [
    "# provide your solution here\n",
    "\n",
    "library(DBI)\n",
    "library(RSQLite)\n",
    "\n",
    "# Connect to the SQLite database\n",
    "con <- dbConnect(SQLite(), \"my_database.sqlite\")\n",
    "\n",
    "# Query to calculate average weather conditions and bike rentals per season\n",
    "query <- \"\n",
    "SELECT \n",
    "    SEASONS, \n",
    "    AVG(TEMPERATURE) AS avg_temperature,\n",
    "    AVG(HUMIDITY) AS avg_humidity,\n",
    "    AVG(WIND_SPEED) AS avg_wind_speed,\n",
    "    AVG(VISIBILITY) AS avg_visibility,\n",
    "    AVG(DEW_POINT_TEMPERATURE) AS avg_dew_point,\n",
    "    AVG(SOLAR_RADIATION) AS avg_solar_radiation,\n",
    "    AVG(RAINFALL) AS avg_rainfall,\n",
    "    AVG(SNOWFALL) AS avg_snowfall,\n",
    "    AVG(RENTED_BIKE_COUNT) AS avg_bike_count\n",
    "FROM \n",
    "    seoul_bike_sharing\n",
    "GROUP BY \n",
    "    SEASONS\n",
    "ORDER BY \n",
    "    avg_bike_count DESC\n",
    "\"\n",
    "\n",
    "# Execute the query\n",
    "result <- dbGetQuery(con, query)\n",
    "\n",
    "# Print the results\n",
    "print(result)\n",
    "\n",
    "# Close the connection\n",
    "dbDisconnect(con)"
   ]
  },
  {
   "cell_type": "markdown",
   "metadata": {},
   "source": [
    "## Task 10 - Total Bike Count and City Info for Seoul\n",
    "#### Use an implicit join across the WORLD_CITIES and the BIKE_SHARING_SYSTEMS tables to determine the total number of bikes avaialble in Seoul, plus the following city information about Seoul: CITY, COUNTRY, LAT, LON, POPULATION, in a single view.\n",
    "Notice that in this case, the CITY column will work for the WORLD_CITIES table, but in general you would have to use the CITY_ASCII column.\n"
   ]
  },
  {
   "cell_type": "markdown",
   "metadata": {},
   "source": [
    "### Solution 10\n"
   ]
  },
  {
   "cell_type": "code",
   "execution_count": 31,
   "metadata": {
    "tags": []
   },
   "outputs": [
    {
     "name": "stdout",
     "output_type": "stream",
     "text": [
      "   CITY     COUNTRY SYSTEM total_bikes\n",
      "1 Seoul South Korea   <NA>       20000\n"
     ]
    }
   ],
   "source": [
    "# Connect to the SQLite database\n",
    "con <- dbConnect(SQLite(), \"my_database.sqlite\")\n",
    "\n",
    "# Query to find the total bike count and city info for Seoul\n",
    "query <- \"\n",
    "  SELECT \n",
    "    CITY,\n",
    "    COUNTRY,\n",
    "    SYSTEM,\n",
    "    BICYCLES AS total_bikes\n",
    "  FROM bike_sharingg_systems\n",
    "  WHERE CITY = 'Seoul'\n",
    "\"\n",
    "\n",
    "# Execute the query\n",
    "result <- dbGetQuery(con, query)\n",
    "\n",
    "# Print the result\n",
    "print(result)\n"
   ]
  },
  {
   "cell_type": "markdown",
   "metadata": {},
   "source": [
    "## Task 11 - Find all city names and coordinates with comparable bike scale to Seoul's bike sharing system\n",
    "#### Find all cities with total bike counts between 15000 and 20000. Return the city and country names, plus the coordinates (LAT, LNG), population, and number of bicycles for each city.\n",
    "Later we will ask you to visualize these similar cities on leaflet, with some weather data.\n"
   ]
  },
  {
   "cell_type": "markdown",
   "metadata": {},
   "source": [
    "### Solution 11\n"
   ]
  },
  {
   "cell_type": "code",
   "execution_count": 34,
   "metadata": {
    "tags": []
   },
   "outputs": [
    {
     "name": "stdout",
     "output_type": "stream",
     "text": [
      "                                                                                    CITY\n",
      "1                                                                                Beijing\n",
      "2                                                                                Kunshan\n",
      "3                                                                                 Ningbo\n",
      "4                                                                               Shanghai\n",
      "5                                                                                 Suzhou\n",
      "6                                                                                Weifang\n",
      "7                                                                                  Xi'an\n",
      "8                                                                                 Xuzhou\n",
      "9                                                                                Zhuzhou\n",
      "10 Towns and cities in the Netherlands: all over the country, mainly at railway stations\n",
      "11                                                                                 Seoul\n",
      "       COUNTRY total_bikes\n",
      "1        China       16000\n",
      "2        China       20000\n",
      "3        China       15000\n",
      "4        China       19165\n",
      "5        China       22940\n",
      "6        China       20000\n",
      "7        China       20000\n",
      "8        China       18000\n",
      "9        China       20000\n",
      "10 Netherlands       21700\n",
      "11 South Korea       20000\n"
     ]
    }
   ],
   "source": [
    "# Connect to the SQLite database\n",
    "con <- dbConnect(SQLite(), \"my_database.sqlite\")\n",
    "\n",
    "# Query to find cities with comparable bike scale to Seoul\n",
    "query <- \"\n",
    "  SELECT \n",
    "    CITY,\n",
    "    COUNTRY,\n",
    "    BICYCLES AS total_bikes\n",
    "  FROM bike_sharingg_systems\n",
    "  WHERE BICYCLES >= 15000 AND BICYCLES <= 25000\n",
    "\"\n",
    "\n",
    "# Execute the query\n",
    "result <- dbGetQuery(con, query)\n",
    "\n",
    "# Print the result\n",
    "print(result)"
   ]
  },
  {
   "cell_type": "code",
   "execution_count": null,
   "metadata": {},
   "outputs": [],
   "source": [
    "close(con)"
   ]
  },
  {
   "cell_type": "markdown",
   "metadata": {},
   "source": [
    "## Author(s)\n",
    "\n",
    "<h4> Jeff Grossman </h4>\n",
    "<h4> Lakshmi Holla </h4>\n",
    "\n",
    "\n",
    "## Other Contributor(s)\n",
    "\n",
    "<h4>  Malika Singla </h4>\n",
    "\n",
    "<!--## Change log\n",
    "\n",
    "| Date (YYYY-MM-DD) | Version | Changed By | Change Description                 |\n",
    "| ----------------- | ------- | ---------- | ---------------------------------- |\n",
    "| 2022-03-03        | 1.0     |Lakshmi Holla  | Created lab using sqlite3          |-->\n",
    "\n",
    "## <h3 align=\"center\"> © IBM Corporation 2022. All rights reserved. <h3/>\n"
   ]
  },
  {
   "cell_type": "code",
   "execution_count": null,
   "metadata": {},
   "outputs": [],
   "source": []
  }
 ],
 "metadata": {
  "kernelspec": {
   "display_name": "R",
   "language": "R",
   "name": "conda-env-r-r"
  },
  "language_info": {
   "codemirror_mode": "r",
   "file_extension": ".r",
   "mimetype": "text/x-r-source",
   "name": "R",
   "pygments_lexer": "r",
   "version": "3.5.1"
  },
  "prev_pub_hash": "aec4d69ac9a601945e548ceeb943a3da719b90cac1cddd3d200b7d1ab9ce6d13"
 },
 "nbformat": 4,
 "nbformat_minor": 4
}
